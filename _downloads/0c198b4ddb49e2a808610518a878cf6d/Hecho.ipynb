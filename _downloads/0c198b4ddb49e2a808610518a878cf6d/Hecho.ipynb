{
  "cells": [
    {
      "cell_type": "code",
      "execution_count": null,
      "metadata": {
        "collapsed": false
      },
      "outputs": [],
      "source": [
        "%matplotlib inline\nfrom pyvista import set_plot_theme\nset_plot_theme('document')"
      ]
    },
    {
      "cell_type": "markdown",
      "metadata": {},
      "source": [
        "\n# Hecho\n"
      ]
    },
    {
      "cell_type": "markdown",
      "metadata": {},
      "source": [
        "These two lines are necessary only if gempy is not installed\n\n"
      ]
    },
    {
      "cell_type": "code",
      "execution_count": null,
      "metadata": {
        "collapsed": false
      },
      "outputs": [],
      "source": [
        "import sys, os\nimport urllib\n\nos.environ[\"THEANO_FLAGS\"] = \"mode=FAST_RUN,device=cpu\"\n# Importing gempy\nimport gempy as gp\n\n# Aux imports\nimport numpy as np\nimport pandas as pn\nimport matplotlib.pyplot as plt"
      ]
    },
    {
      "cell_type": "markdown",
      "metadata": {},
      "source": [
        "# Loading surface points from repository:\n\nWith pandas we can do it directly from the web and with the right args\nwe can directly tidy the data in gempy style:\n\n\n"
      ]
    },
    {
      "cell_type": "code",
      "execution_count": null,
      "metadata": {
        "collapsed": false
      },
      "outputs": [],
      "source": [
        "dfs = []\ndata_amount = 'Full'\n\n# First stratigraphic data\nfor letter in range(1, 10):\n\n    try:\n        dfs.append(pn.read_csv('https://raw.githubusercontent.com/Loop3D/ImplicitBenchmark/master'\n                               f'/Hecho/{data_amount}/H' +\n                               str(letter) + '.csv', sep=';',\n                               names=['X', 'Y', 'Z', 'surface', '_'], header=0))\n    except urllib.error.HTTPError as e:\n        print(e, letter)\n\n# Also faults\nfor f in range(1, 4):\n    fault_df = pn.read_csv('https://raw.githubusercontent.com/Loop3D/ImplicitBenchmark/master/Hecho/F' +\n                           str(f) + 'Line.csv',\n                           sep=';', names=['X', 'Y', 'Z'], header=0)\n    fault_df['surface'] = 'f' + str(f)\n    dfs.append(fault_df)\n\n# We put all the surfaces points together because is how gempy likes it:\nsurface_points = pn.concat(dfs, sort=True)\nsurface_points.reset_index(inplace=True, drop=False)\nsurface_points.tail()"
      ]
    },
    {
      "cell_type": "markdown",
      "metadata": {},
      "source": [
        "Now we do the same with the orientations:\n\n\n"
      ]
    },
    {
      "cell_type": "code",
      "execution_count": null,
      "metadata": {
        "collapsed": false
      },
      "outputs": [],
      "source": [
        "orientations = pn.read_csv('https://raw.githubusercontent.com/Loop3D/ImplicitBenchmark/master/Hecho/Sparse/Dips.csv',\n                           sep=';',\n                           names=['X', 'Y', 'Z', 'G_x', 'G_z', '_'], header=0)\n# Orientation needs to belong to a surface. This is mainly to categorize to which series belong and to\n# use the same color\norientations['surface'] = 0\n\n# We fill the laking direction with a dummy value:\norientations['G_y'] = 0\n\n# Drop unecesary data point\norientations.drop([1, 3, 4], inplace=True)\norientations"
      ]
    },
    {
      "cell_type": "markdown",
      "metadata": {},
      "source": [
        "# Data initialization:\n\nSuggested size of the axis-aligned modeling box: Origin: 0 -0.5 0\nMaximum: 16 0.5 4.5\n\nSuggested resolution: 0.05m (grid size 321 x 21 x 91)\n\n\n"
      ]
    },
    {
      "cell_type": "code",
      "execution_count": null,
      "metadata": {
        "collapsed": false
      },
      "outputs": [],
      "source": [
        "geo_model = gp.create_model('Moureze')\ngeo_model = gp.init_data(geo_model, extent=[0, 16, -0.5, 0.5, 0, 4.5], resolution=[321, 21, 91],\n                         surface_points_df=surface_points, orientations_df=orientations,\n                         surface_name='surface',\n                         add_basement=True)"
      ]
    },
    {
      "cell_type": "code",
      "execution_count": null,
      "metadata": {
        "collapsed": false
      },
      "outputs": [],
      "source": [
        "geo_model.orientations.df.at[5, 'surface']"
      ]
    },
    {
      "cell_type": "code",
      "execution_count": null,
      "metadata": {
        "collapsed": false
      },
      "outputs": [],
      "source": [
        "geo_model.orientations.df"
      ]
    },
    {
      "cell_type": "markdown",
      "metadata": {},
      "source": [
        "We need an orientation per series/fault. The faults does not have\norientation so the easiest is to create an orientation from the surface\npoints availablle:\n\n\n"
      ]
    },
    {
      "cell_type": "code",
      "execution_count": null,
      "metadata": {
        "collapsed": false
      },
      "outputs": [],
      "source": [
        "f_names = ['f1', 'f2', 'f3']\nfor fn in f_names:\n    fault_idx = geo_model.surface_points.df.index[geo_model.surface_points.df['surface'] == fn]\n    gp.set_orientation_from_surface_points(geo_model, fault_idx)"
      ]
    },
    {
      "cell_type": "markdown",
      "metadata": {},
      "source": [
        "Now we can see how the data looks so far:\n\n\n"
      ]
    },
    {
      "cell_type": "code",
      "execution_count": null,
      "metadata": {
        "collapsed": false
      },
      "outputs": [],
      "source": [
        "gp.plot_2d(geo_model)"
      ]
    },
    {
      "cell_type": "markdown",
      "metadata": {},
      "source": [
        "By default all surfaces belong to one unique series.\n\n\n"
      ]
    },
    {
      "cell_type": "code",
      "execution_count": null,
      "metadata": {
        "collapsed": false
      },
      "outputs": [],
      "source": [
        "geo_model.surfaces"
      ]
    },
    {
      "cell_type": "code",
      "execution_count": null,
      "metadata": {
        "collapsed": false
      },
      "outputs": [],
      "source": [
        "geo_model.orientations.df.dtypes"
      ]
    },
    {
      "cell_type": "markdown",
      "metadata": {},
      "source": [
        "We will need to separate with surface belong to each series:\n\n\n"
      ]
    },
    {
      "cell_type": "code",
      "execution_count": null,
      "metadata": {
        "collapsed": false
      },
      "outputs": [],
      "source": [
        "gp.map_stack_to_surfaces(geo_model, {'Fault1': 'f1', 'Fault2': 'f2', 'Fault3': 'f3'})"
      ]
    },
    {
      "cell_type": "markdown",
      "metadata": {},
      "source": [
        "However if we want the faults to offset the \u201cDefault series\u201d, they will\nneed to be more recent (higher on the pile). We can modify the order by:\n\n\n"
      ]
    },
    {
      "cell_type": "code",
      "execution_count": null,
      "metadata": {
        "collapsed": false
      },
      "outputs": [],
      "source": [
        "geo_model.modify_order_series(4, 'Default series')"
      ]
    },
    {
      "cell_type": "markdown",
      "metadata": {},
      "source": [
        "Lastly, so far we did not specify which series/faults are actula faults:\n\n\n"
      ]
    },
    {
      "cell_type": "code",
      "execution_count": null,
      "metadata": {
        "collapsed": false
      },
      "outputs": [],
      "source": [
        "geo_model.set_is_fault(['Fault1', 'Fault2', 'Fault3'])"
      ]
    },
    {
      "cell_type": "markdown",
      "metadata": {},
      "source": [
        "Now we are good to go:\n\n\n"
      ]
    },
    {
      "cell_type": "code",
      "execution_count": null,
      "metadata": {
        "collapsed": false
      },
      "outputs": [],
      "source": [
        "gp.set_interpolator(geo_model, theano_optimizer='fast_run', dtype='float64')"
      ]
    },
    {
      "cell_type": "markdown",
      "metadata": {},
      "source": [
        "The default range is always the diagonal of the extent. Since in this\nmodel data is very close we will need to reduce the range to 5-10% of\nthat value:\n\n\n"
      ]
    },
    {
      "cell_type": "code",
      "execution_count": null,
      "metadata": {
        "collapsed": false
      },
      "outputs": [],
      "source": [
        "new_range = geo_model.get_additional_data().loc[('Kriging', 'range'), 'values'] * 0.2\ngeo_model.modify_kriging_parameters('range', new_range)"
      ]
    },
    {
      "cell_type": "code",
      "execution_count": null,
      "metadata": {
        "collapsed": false
      },
      "outputs": [],
      "source": [
        "gp.compute_model(geo_model, sort_surfaces=True, compute_mesh=False)"
      ]
    },
    {
      "cell_type": "markdown",
      "metadata": {},
      "source": [
        "# Time\n\n-  GTX 2080 164 ms \u00b1 2.03 ms per loop (mean \u00b1 std. dev. of 7 runs, 1\n   loop each)\n\n\n"
      ]
    },
    {
      "cell_type": "code",
      "execution_count": null,
      "metadata": {
        "collapsed": false
      },
      "outputs": [],
      "source": [
        "gp.plot_2d(geo_model, cell_number=[10], series_n=3, show_scalar=True)"
      ]
    },
    {
      "cell_type": "code",
      "execution_count": null,
      "metadata": {
        "collapsed": false
      },
      "outputs": [],
      "source": [
        "gp.plot_2d(geo_model, cell_number=[10], show_data=True)"
      ]
    },
    {
      "cell_type": "markdown",
      "metadata": {},
      "source": [
        "sphinx_gallery_thumbnail_number = 3\n\n"
      ]
    },
    {
      "cell_type": "code",
      "execution_count": null,
      "metadata": {
        "collapsed": false
      },
      "outputs": [],
      "source": [
        "gp.plot_3d(geo_model, kwargs_plot_structured_grid={'opacity': 8})"
      ]
    },
    {
      "cell_type": "markdown",
      "metadata": {},
      "source": [
        "# Export data:\n\nThe solution is stored in a numpy array of the following shape. Axis 0\nare the scalar fields of each correspondent series/faults in the\nfollowing order (except basement):\n\n\n"
      ]
    },
    {
      "cell_type": "code",
      "execution_count": null,
      "metadata": {
        "collapsed": false
      },
      "outputs": [],
      "source": [
        "geo_model.series"
      ]
    },
    {
      "cell_type": "markdown",
      "metadata": {},
      "source": [
        "For the surfaces, there are two numpy arrays, one with vertices and the\nother with triangles. Axis 0 is each surface in the order:\n\n\n"
      ]
    },
    {
      "cell_type": "code",
      "execution_count": null,
      "metadata": {
        "collapsed": false
      },
      "outputs": [],
      "source": [
        "geo_model.surfaces"
      ]
    },
    {
      "cell_type": "code",
      "execution_count": null,
      "metadata": {
        "collapsed": false
      },
      "outputs": [],
      "source": [
        "np.save('Hecho_scalar', geo_model.solutions.scalar_field_matrix)"
      ]
    },
    {
      "cell_type": "code",
      "execution_count": null,
      "metadata": {
        "collapsed": false
      },
      "outputs": [],
      "source": [
        "def write_property_to_gocad_voxet(propertyfilename, propertyvalues):\n    \"\"\"\n    This function writes a numpy array into the right format for a gocad\n    voxet property file. This assumet there is a property already added to the .vo file,\n    and is just updating the file.\n    propertyfile - string giving the path to the file to write\n    propertyvalues - numpy array nz,ny,nx ordering and in float format\n    \"\"\"\n    propertyvalues = propertyvalues.astype('>f4')  # big endian\n    #     array = propertyvalues.newbyteorder()\n    propertyvalues.tofile(propertyfilename)"
      ]
    },
    {
      "cell_type": "code",
      "execution_count": null,
      "metadata": {
        "collapsed": false
      },
      "outputs": [],
      "source": [
        "write_property_to_gocad_voxet(f'hecho_sf_gempy_{data_amount}',\n                              geo_model.solutions.scalar_field_matrix[3].reshape([321, 21, 91]).ravel('F'))"
      ]
    },
    {
      "cell_type": "code",
      "execution_count": null,
      "metadata": {
        "collapsed": false
      },
      "outputs": [],
      "source": [
        "4"
      ]
    }
  ],
  "metadata": {
    "kernelspec": {
      "display_name": "Python 3",
      "language": "python",
      "name": "python3"
    },
    "language_info": {
      "codemirror_mode": {
        "name": "ipython",
        "version": 3
      },
      "file_extension": ".py",
      "mimetype": "text/x-python",
      "name": "python",
      "nbconvert_exporter": "python",
      "pygments_lexer": "ipython3",
      "version": "3.8.5"
    }
  },
  "nbformat": 4,
  "nbformat_minor": 0
}