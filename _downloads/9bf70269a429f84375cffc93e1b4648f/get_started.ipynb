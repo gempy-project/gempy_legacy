{
  "cells": [
    {
      "cell_type": "code",
      "execution_count": null,
      "metadata": {
        "collapsed": false
      },
      "outputs": [],
      "source": [
        "%matplotlib inline\nfrom pyvista import set_plot_theme\nset_plot_theme('document')"
      ]
    },
    {
      "cell_type": "markdown",
      "metadata": {},
      "source": [
        "\n# Getting Started\n"
      ]
    },
    {
      "cell_type": "code",
      "execution_count": null,
      "metadata": {
        "collapsed": false
      },
      "outputs": [],
      "source": [
        "# Importing GemPy\nimport gempy as gp\n\n# Importing aux libraries\nimport numpy as np\nimport matplotlib.pyplot as plt\nimport matplotlib.image as mpimg"
      ]
    },
    {
      "cell_type": "markdown",
      "metadata": {},
      "source": [
        "## Initializing the model:\n\nThe first step to create a GemPy model is create a gempy.Model object\nthat will contain all the other data structures and necessary\nfunctionality.\n\nIn addition for this example we will define a regular grid since the\nbeginning. This is the grid where we will interpolate the 3D geological\nmodel. GemPy comes with an array of different grids for different\npourposes as we will see below. For visualization usually a regular grid\nis the one that makes more sense.\n\n\n"
      ]
    },
    {
      "cell_type": "code",
      "execution_count": null,
      "metadata": {
        "collapsed": false
      },
      "outputs": [],
      "source": [
        "geo_model = gp.create_model('Model1')\ngeo_model = gp.init_data(geo_model, extent=[0, 791, 0, 200, -582, 0], resolution=[100, 10, 100])"
      ]
    },
    {
      "cell_type": "markdown",
      "metadata": {},
      "source": [
        "GemPy core code is written in Python. However for efficiency (and other\nreasons) most of heavy computations happend in optimize compile code,\neither C or CUDA for GPU. To do so, GemPy rely on the library theano. To\nguarantee maximum optimization theano requires to compile the code for\nevery Python kernel. The compilation is done by calling the following\nline at any point (before computing the model):\n\n\n"
      ]
    },
    {
      "cell_type": "code",
      "execution_count": null,
      "metadata": {
        "collapsed": false
      },
      "outputs": [],
      "source": [
        "gp.set_interpolator(geo_model, theano_optimizer='fast_compile', verbose=[])"
      ]
    },
    {
      "cell_type": "markdown",
      "metadata": {},
      "source": [
        "## Creating figure:\n\nGemPy uses matplotlib and pyvista-vtk libraries for 2d and 3d\nvisualization of the model respectively. One of the design decisions of\nGemPy is to allow real time construction of the model. What this means\nis that you can start adding input data and see in real time how the 3D\nsurfaces evolve. Lets initialize the visualization windows.\n\nThe first one is the 2d figure. Just place the window where you can see\nit (maybe move the jupyter notebook to half screen and use the other\nhalf for the renderers).\n\n\n"
      ]
    },
    {
      "cell_type": "markdown",
      "metadata": {},
      "source": [
        "%matplotlib qt5\n\n"
      ]
    },
    {
      "cell_type": "code",
      "execution_count": null,
      "metadata": {
        "collapsed": false
      },
      "outputs": [],
      "source": [
        "p2d = gp.plot_2d(geo_model)"
      ]
    },
    {
      "cell_type": "markdown",
      "metadata": {},
      "source": [
        "### Add model section\n\nIn the 2d renderer we can add several cross section of the model. In\nthis case, for simplicity sake we are just adding one perpendicular to\ny.\n\n\n"
      ]
    },
    {
      "cell_type": "markdown",
      "metadata": {},
      "source": [
        "### Loading cross-section image:\n\nRemember that gempy is simply using matplotlib and therofe the ax object\ncreated above is a standard matplotlib axes. This allow to manipulate it\nfreely. Lets load an image with the information of couple of boreholes\n\n\n"
      ]
    },
    {
      "cell_type": "markdown",
      "metadata": {},
      "source": [
        "Reading image\n\n"
      ]
    },
    {
      "cell_type": "code",
      "execution_count": null,
      "metadata": {
        "collapsed": false
      },
      "outputs": [],
      "source": [
        "img = mpimg.imread('wells.png')\n# Plotting it inplace\np2d = gp.plot_2d(geo_model, show=False)\np2d.axes[0].imshow(img, origin='upper', alpha=.8, extent=(0, 791, -582, 0))\nplt.show()"
      ]
    },
    {
      "cell_type": "markdown",
      "metadata": {},
      "source": [
        "We can do the same in 3D through pyvista and vtk rendering:\n\n\n"
      ]
    },
    {
      "cell_type": "code",
      "execution_count": null,
      "metadata": {
        "collapsed": false
      },
      "outputs": [],
      "source": [
        "p3d = gp.plot_3d(geo_model)"
      ]
    },
    {
      "cell_type": "markdown",
      "metadata": {},
      "source": [
        "#### Building the model\n\nNow that we have everything initialize we can start the construction of\nthe geological model.\n\n## Surfaces\n\nGemPy is a surface based interpolator. This means that all the input\ndata we add has to be refered to a surface. The surfaces always mark the\nbottom of a unit. By default GemPy surfaces are empty:\n\n\n"
      ]
    },
    {
      "cell_type": "code",
      "execution_count": null,
      "metadata": {
        "collapsed": false
      },
      "outputs": [],
      "source": [
        "geo_model.surfaces"
      ]
    },
    {
      "cell_type": "markdown",
      "metadata": {},
      "source": [
        "If we do not care about the names and we just want to interpolate a\nsurface we can use:\n\n\n"
      ]
    },
    {
      "cell_type": "markdown",
      "metadata": {},
      "source": [
        "Default surfaces:\n\n"
      ]
    },
    {
      "cell_type": "code",
      "execution_count": null,
      "metadata": {
        "collapsed": false
      },
      "outputs": [],
      "source": [
        "geo_model.set_default_surfaces()"
      ]
    },
    {
      "cell_type": "markdown",
      "metadata": {},
      "source": [
        "Now we can start adding data. GemPy input data consist on surface points\nand orientations (perpendicular to the layers). The 2D plot gives you\nthe X and Z coordinates when hovering the mouse over. We can add a\nsurface point as follows:\n\n\n"
      ]
    },
    {
      "cell_type": "markdown",
      "metadata": {},
      "source": [
        "Add a point\n\n"
      ]
    },
    {
      "cell_type": "code",
      "execution_count": null,
      "metadata": {
        "collapsed": false
      },
      "outputs": [],
      "source": [
        "geo_model.add_surface_points(X=223, Y=0.01, Z=-94, surface='surface1')\n\n# Plot in 2D\ngp.plot_2d(geo_model, cell_number=11)\n\n# Plot in 3D\ngp.plot_3d(geo_model)"
      ]
    },
    {
      "cell_type": "markdown",
      "metadata": {},
      "source": [
        "Now we can add the other two points of the layer:\n\n\n"
      ]
    },
    {
      "cell_type": "markdown",
      "metadata": {},
      "source": [
        "Add points\n\n"
      ]
    },
    {
      "cell_type": "code",
      "execution_count": null,
      "metadata": {
        "collapsed": false
      },
      "outputs": [],
      "source": [
        "geo_model.add_surface_points(X=458, Y=0, Z=-107, surface='surface1')\ngeo_model.add_surface_points(X=612, Y=0, Z=-14, surface='surface1')\n\n# Plotting\ngp.plot_2d(geo_model, cell_number=11)\ngp.plot_3d(geo_model)"
      ]
    },
    {
      "cell_type": "markdown",
      "metadata": {},
      "source": [
        "The minimum amount of data to interpolate anything in gempy is: a) 2\nsurface points per surface b) One orientation per series.\n\nLets add an orientation anywhere in space:\n\n\n"
      ]
    },
    {
      "cell_type": "markdown",
      "metadata": {},
      "source": [
        "Adding orientation\n\n"
      ]
    },
    {
      "cell_type": "code",
      "execution_count": null,
      "metadata": {
        "collapsed": false
      },
      "outputs": [],
      "source": [
        "geo_model.add_orientations(X=350, Y=0, Z=-300, surface='surface1', pole_vector=(0, 0, 1))\ngp.plot_2d(geo_model, cell_number=5)\ngp.plot_3d(geo_model)"
      ]
    },
    {
      "cell_type": "markdown",
      "metadata": {},
      "source": [
        "Now we have enough data for finally interpolate!\n\n\n"
      ]
    },
    {
      "cell_type": "code",
      "execution_count": null,
      "metadata": {
        "collapsed": false
      },
      "outputs": [],
      "source": [
        "gp.compute_model(geo_model)"
      ]
    },
    {
      "cell_type": "code",
      "execution_count": null,
      "metadata": {
        "collapsed": false
      },
      "outputs": [],
      "source": [
        "geo_model.additional_data.kriging_data"
      ]
    },
    {
      "cell_type": "code",
      "execution_count": null,
      "metadata": {
        "collapsed": false
      },
      "outputs": [],
      "source": [
        "geo_model.additional_data.rescaling_data"
      ]
    },
    {
      "cell_type": "markdown",
      "metadata": {},
      "source": [
        "That is, we have interpolated the 3D surface. We can visualize:\n\n\n"
      ]
    },
    {
      "cell_type": "markdown",
      "metadata": {},
      "source": [
        "In 2D\n\n"
      ]
    },
    {
      "cell_type": "code",
      "execution_count": null,
      "metadata": {
        "collapsed": false
      },
      "outputs": [],
      "source": [
        "gp.plot_2d(geo_model, cell_number=[5])\n\n# In 3D\ngp.plot_3d(geo_model, show_surfaces=True)"
      ]
    },
    {
      "cell_type": "markdown",
      "metadata": {},
      "source": [
        "## Adding more layers:\n\nSo far we only need 2 units defined. The cross-section image that we\nload have 4 however. Lets add two layers more:\n\n\n"
      ]
    },
    {
      "cell_type": "code",
      "execution_count": null,
      "metadata": {
        "collapsed": false
      },
      "outputs": [],
      "source": [
        "geo_model.surfaces"
      ]
    },
    {
      "cell_type": "code",
      "execution_count": null,
      "metadata": {
        "collapsed": false
      },
      "outputs": [],
      "source": [
        "geo_model.series"
      ]
    },
    {
      "cell_type": "code",
      "execution_count": null,
      "metadata": {
        "collapsed": false
      },
      "outputs": [],
      "source": [
        "geo_model.add_surfaces(['surface3', 'basement'])"
      ]
    },
    {
      "cell_type": "markdown",
      "metadata": {},
      "source": [
        "## Layer 2\n\nAdd the layer next layers:\n\n\n"
      ]
    },
    {
      "cell_type": "markdown",
      "metadata": {},
      "source": [
        "Your code here:\n\n"
      ]
    },
    {
      "cell_type": "code",
      "execution_count": null,
      "metadata": {
        "collapsed": false
      },
      "outputs": [],
      "source": [
        "geo_model.add_surface_points(X=225, Y=0, Z=-269, surface='surface2')\ngeo_model.add_surface_points(X=459, Y=0, Z=-279, surface='surface2')\n\n# --------------------"
      ]
    },
    {
      "cell_type": "markdown",
      "metadata": {},
      "source": [
        "Compute model\n\n"
      ]
    },
    {
      "cell_type": "code",
      "execution_count": null,
      "metadata": {
        "collapsed": false
      },
      "outputs": [],
      "source": [
        "gp.compute_model(geo_model)"
      ]
    },
    {
      "cell_type": "code",
      "execution_count": null,
      "metadata": {
        "collapsed": false
      },
      "outputs": [],
      "source": [
        "gp.plot_2d(geo_model, cell_number=5, legend='force')\ngp.plot_3d(geo_model)"
      ]
    },
    {
      "cell_type": "markdown",
      "metadata": {},
      "source": [
        "## Layer 3\n\n\n"
      ]
    },
    {
      "cell_type": "markdown",
      "metadata": {},
      "source": [
        "Your code here:\n\n"
      ]
    },
    {
      "cell_type": "code",
      "execution_count": null,
      "metadata": {
        "collapsed": false
      },
      "outputs": [],
      "source": [
        "geo_model.add_surface_points(X=225, Y=0, Z=-439, surface='surface3')\ngeo_model.add_surface_points(X=464, Y=0, Z=-456, surface='surface3')\ngeo_model.add_surface_points(X=619, Y=0, Z=-433, surface='surface3')\n\n# ------------------"
      ]
    },
    {
      "cell_type": "markdown",
      "metadata": {},
      "source": [
        "Computing and plotting 3D\n\n"
      ]
    },
    {
      "cell_type": "code",
      "execution_count": null,
      "metadata": {
        "collapsed": false
      },
      "outputs": [],
      "source": [
        "gp.compute_model(geo_model)\n\ngp.plot_2d(geo_model, cell_number=5, legend='force')\ngp.plot_3d(geo_model, kwargs_plot_structured_grid={'opacity': .2})"
      ]
    },
    {
      "cell_type": "markdown",
      "metadata": {},
      "source": [
        "#### Adding a Fault\n\nSo far the model is simply a depositional unit. GemPy allows for\nunconformities and faults to build complex models. This input is given\nby categorical data. In general:\n\ninput data (surface points/ orientations) <belong to< surface <belong\nto< series\n\nAnd series can be a fault\u2014i.e.\u00a0offset the rest of surface\u2014 or not. We\nare going to show how to add a fault as an example.\n\nFirst we need to add a series:\n\n\n"
      ]
    },
    {
      "cell_type": "code",
      "execution_count": null,
      "metadata": {
        "collapsed": false
      },
      "outputs": [],
      "source": [
        "geo_model.add_features('Fault1')"
      ]
    },
    {
      "cell_type": "code",
      "execution_count": null,
      "metadata": {
        "collapsed": false
      },
      "outputs": [],
      "source": [
        "geo_model.reorder_features(['Fault1', 'Default series'])"
      ]
    },
    {
      "cell_type": "markdown",
      "metadata": {},
      "source": [
        "Then define that is a fault:\n\n\n"
      ]
    },
    {
      "cell_type": "code",
      "execution_count": null,
      "metadata": {
        "collapsed": false
      },
      "outputs": [],
      "source": [
        "geo_model.set_is_fault('Fault1')"
      ]
    },
    {
      "cell_type": "markdown",
      "metadata": {},
      "source": [
        "But we also need to add a new surface:\n\n\n"
      ]
    },
    {
      "cell_type": "code",
      "execution_count": null,
      "metadata": {
        "collapsed": false
      },
      "outputs": [],
      "source": [
        "geo_model.add_surfaces('fault1')"
      ]
    },
    {
      "cell_type": "markdown",
      "metadata": {},
      "source": [
        "And finally assign the new surface to the new series/fault\n\n\n"
      ]
    },
    {
      "cell_type": "code",
      "execution_count": null,
      "metadata": {
        "collapsed": false
      },
      "outputs": [],
      "source": [
        "gp.map_stack_to_surfaces(geo_model, {'Fault1': 'fault1'})"
      ]
    },
    {
      "cell_type": "markdown",
      "metadata": {},
      "source": [
        "Now we can just add input data as before (remember the minimum amount of\ninput data to compute a model):\n\n\n"
      ]
    },
    {
      "cell_type": "markdown",
      "metadata": {},
      "source": [
        "Add input data of the fault\n\n"
      ]
    },
    {
      "cell_type": "code",
      "execution_count": null,
      "metadata": {
        "collapsed": false
      },
      "outputs": [],
      "source": [
        "geo_model.add_surface_points(X=550, Y=0, Z=-30, surface='fault1')\ngeo_model.add_surface_points(X=650, Y=0, Z=-200, surface='fault1')\ngeo_model.add_orientations(X=600, Y=0, Z=-100, surface='fault1', pole_vector=(.3, 0, .3))\n\n# Plotting Inpute data\ngp.plot_2d(geo_model, show_solutions=False)"
      ]
    },
    {
      "cell_type": "markdown",
      "metadata": {},
      "source": [
        "And now is computing as before:\n\n\n"
      ]
    },
    {
      "cell_type": "markdown",
      "metadata": {},
      "source": [
        "Compute\n\n"
      ]
    },
    {
      "cell_type": "code",
      "execution_count": null,
      "metadata": {
        "collapsed": false
      },
      "outputs": [],
      "source": [
        "gp.compute_model(geo_model)\n\n# Plot\ngp.plot_2d(geo_model, cell_number=5, legend='force')\ngp.plot_3d(geo_model, kwargs_plot_structured_grid={'opacity': .2})"
      ]
    },
    {
      "cell_type": "markdown",
      "metadata": {},
      "source": [
        "As you can see now instead of having folding layers we have a sharp\njump. Building on this you can pretty much any model you can imagine.\n\n\n"
      ]
    },
    {
      "cell_type": "markdown",
      "metadata": {},
      "source": [
        "# Additional features:\n\nOver the years we have built a bunch of assets integrate with gempy.\nHere we will show some of them:\n\n#### Topography\n\nGemPy has a built-in capabilities to read and manipulate topographic\ndata (through gdal). To show an example we can just create a random\ntopography:\n\n\n"
      ]
    },
    {
      "cell_type": "markdown",
      "metadata": {},
      "source": [
        "Adding random topography\n\n"
      ]
    },
    {
      "cell_type": "code",
      "execution_count": null,
      "metadata": {
        "collapsed": false
      },
      "outputs": [],
      "source": [
        "geo_model.set_topography(source='random', fd=1.9, d_z=np.array([-150, 0]),\n                         resolution=np.array([200, 200]))"
      ]
    },
    {
      "cell_type": "markdown",
      "metadata": {},
      "source": [
        "The topography can we visualize in both renderers:\n\n\n"
      ]
    },
    {
      "cell_type": "code",
      "execution_count": null,
      "metadata": {
        "collapsed": false
      },
      "outputs": [],
      "source": [
        "gp.plot_2d(geo_model, cell_number=5, legend='force')\ngp.plot_3d(geo_model, kwargs_plot_structured_grid={'opacity':.2})"
      ]
    },
    {
      "cell_type": "markdown",
      "metadata": {},
      "source": [
        "But also allows us to compute the geological map of an area:\n\n\n"
      ]
    },
    {
      "cell_type": "code",
      "execution_count": null,
      "metadata": {
        "collapsed": false
      },
      "outputs": [],
      "source": [
        "gp.compute_model(geo_model)\n\n# sphinx_gallery_thumbnail_number = 16\ngp.plot_3d(geo_model, show_topography=True)"
      ]
    },
    {
      "cell_type": "markdown",
      "metadata": {},
      "source": [
        "#### Gravity inversion\n\nGemPy also allows for inversions (in production only gravity so far). We\ncan see a small demo how this works.\n\nThe first thing to do is to assign densities to each of the units:\n\n\n"
      ]
    },
    {
      "cell_type": "code",
      "execution_count": null,
      "metadata": {
        "collapsed": false
      },
      "outputs": [],
      "source": [
        "geo_model.add_surface_values([0, 2.6, 2.4, 3.2, 3.6], ['density'])"
      ]
    },
    {
      "cell_type": "markdown",
      "metadata": {},
      "source": [
        "Also we can create a centered grid around a device for precision:\n\n\n"
      ]
    },
    {
      "cell_type": "code",
      "execution_count": null,
      "metadata": {
        "collapsed": false
      },
      "outputs": [],
      "source": [
        "geo_model.set_centered_grid(centers=[[400, 0, 0]], resolution=[10, 10, 100], radius=800)"
      ]
    },
    {
      "cell_type": "markdown",
      "metadata": {},
      "source": [
        "We need to modify the compile code:\n\n\n"
      ]
    },
    {
      "cell_type": "code",
      "execution_count": null,
      "metadata": {
        "collapsed": false
      },
      "outputs": [],
      "source": [
        "gp.set_interpolator(geo_model, output=['gravity'], theano_optimizer='fast_run')"
      ]
    },
    {
      "cell_type": "markdown",
      "metadata": {},
      "source": [
        "But now additionally to the interpolation we also compute the forward\ngravity of the model (at the point XYZ = 400, 0, 0)\n\n\n"
      ]
    },
    {
      "cell_type": "code",
      "execution_count": null,
      "metadata": {
        "collapsed": false
      },
      "outputs": [],
      "source": [
        "gp.compute_model(geo_model)\ngeo_model.solutions.fw_gravity"
      ]
    }
  ],
  "metadata": {
    "kernelspec": {
      "display_name": "Python 3",
      "language": "python",
      "name": "python3"
    },
    "language_info": {
      "codemirror_mode": {
        "name": "ipython",
        "version": 3
      },
      "file_extension": ".py",
      "mimetype": "text/x-python",
      "name": "python",
      "nbconvert_exporter": "python",
      "pygments_lexer": "ipython3",
      "version": "3.8.5"
    }
  },
  "nbformat": 4,
  "nbformat_minor": 0
}