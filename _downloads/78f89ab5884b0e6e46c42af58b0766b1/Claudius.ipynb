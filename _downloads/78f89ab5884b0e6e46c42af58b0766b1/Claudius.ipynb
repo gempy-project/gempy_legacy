{
  "cells": [
    {
      "cell_type": "code",
      "execution_count": null,
      "metadata": {
        "collapsed": false
      },
      "outputs": [],
      "source": [
        "%matplotlib inline\nfrom pyvista import set_plot_theme\nset_plot_theme('document')"
      ]
    },
    {
      "cell_type": "markdown",
      "metadata": {},
      "source": [
        "\n# Claudius\n"
      ]
    },
    {
      "cell_type": "code",
      "execution_count": null,
      "metadata": {
        "collapsed": false
      },
      "outputs": [],
      "source": [
        "import sys, os\nos.environ[\"THEANO_FLAGS\"] = \"mode=FAST_RUN,device=cpu\"\n\n# Importing gempy\nimport gempy as gp\n\n# Aux imports\nimport numpy as np\nimport pandas as pn"
      ]
    },
    {
      "cell_type": "markdown",
      "metadata": {},
      "source": [
        "# Loading data from repository:\n\nWith pandas we can do it directly from the web and with the right args\nwe can directly tidy the data in gempy style:\n\n\n"
      ]
    },
    {
      "cell_type": "code",
      "execution_count": null,
      "metadata": {
        "collapsed": false
      },
      "outputs": [],
      "source": [
        "dfs = []\nfor letter in 'ABCD':\n    dfs.append(pn.read_csv('https://raw.githubusercontent.com/Loop3D/ImplicitBenchmark/master/Claudius/' +\n                           letter + 'Points.csv', sep=';',\n                           names=['X', 'Y', 'Z', 'surface', 'cutoff'], header=0)[::5])\n# Add fault:\ndfs.append(pn.read_csv('https://raw.githubusercontent.com/Loop3D/ImplicitBenchmark/master/Claudius/Fault.csv',\n                       names=['X', 'Y', 'Z', 'surface'], header=0, sep=';'))\n\nsurface_points = pn.concat(dfs, sort=True)\nsurface_points['surface'] =surface_points['surface'].astype('str')\n# surface_points['surface'] = surface_points['surface'].astype('str')\nsurface_points.reset_index(inplace=True, drop=False)\nsurface_points.tail()"
      ]
    },
    {
      "cell_type": "code",
      "execution_count": null,
      "metadata": {
        "collapsed": false
      },
      "outputs": [],
      "source": [
        "surface_points.dtypes"
      ]
    },
    {
      "cell_type": "markdown",
      "metadata": {},
      "source": [
        "How many points are per surface\n\n\n"
      ]
    },
    {
      "cell_type": "code",
      "execution_count": null,
      "metadata": {
        "collapsed": false
      },
      "outputs": [],
      "source": [
        "surface_points.groupby('surface').count()"
      ]
    },
    {
      "cell_type": "markdown",
      "metadata": {},
      "source": [
        "Now we do the same with the orientations:\n\n\n"
      ]
    },
    {
      "cell_type": "code",
      "execution_count": null,
      "metadata": {
        "collapsed": false
      },
      "outputs": [],
      "source": [
        "dfs = []\n\nfor surf in ['0', '330']:\n    o = pn.read_csv('https://raw.githubusercontent.com/Loop3D/ImplicitBenchmark/master/Claudius/Dips.csv', sep=';',\n                    names=['X', 'Y', 'Z', 'G_x', 'G_y', 'G_z', '-'], header=1)\n\n    # Orientation needs to belong to a surface. This is mainly to categorize to which series belong and to\n    # use the same color\n    o['surface'] = surf\n    dfs.append(o)\norientations = pn.concat(dfs, sort=True)\norientations.reset_index(inplace=True, drop=False)\n\norientations.tail()"
      ]
    },
    {
      "cell_type": "code",
      "execution_count": null,
      "metadata": {
        "collapsed": false
      },
      "outputs": [],
      "source": [
        "orientations.dtypes"
      ]
    },
    {
      "cell_type": "markdown",
      "metadata": {},
      "source": [
        "# Data initialization:\n\nSuggested size of the axis-aligned modeling box: Origin: 548800 7816600\n-8400 Maximum: 552500 7822000 -11010\n\nSuggested resolution: 100m x 100m x -90m (grid size 38 x 55 x 30)\n\n\n"
      ]
    },
    {
      "cell_type": "markdown",
      "metadata": {},
      "source": [
        "Number of voxels:\n\n"
      ]
    },
    {
      "cell_type": "code",
      "execution_count": null,
      "metadata": {
        "collapsed": false
      },
      "outputs": [],
      "source": [
        "np.array([38, 55, 30]).prod()"
      ]
    },
    {
      "cell_type": "code",
      "execution_count": null,
      "metadata": {
        "collapsed": false
      },
      "outputs": [],
      "source": [
        "geo_model = gp.create_model('Claudius')\n# Importing the data from csv files and settign extent and resolution\ngeo_model = gp.init_data(geo_model,\n                         extent=[548800, 552500, 7816600, 7822000, -11010, -8400], resolution=[38, 55, 30],\n                         surface_points_df=surface_points[::5], orientations_df=orientations, surface_name='surface',\n                         add_basement=True)"
      ]
    },
    {
      "cell_type": "markdown",
      "metadata": {},
      "source": [
        "We are going to increase the smoothness (nugget) of the data to increase\nthe conditional number of the matrix:\n\n\n"
      ]
    },
    {
      "cell_type": "code",
      "execution_count": null,
      "metadata": {
        "collapsed": false
      },
      "outputs": [],
      "source": [
        "geo_model.modify_surface_points(geo_model.surface_points.df.index, smooth=0.1).df.tail()"
      ]
    },
    {
      "cell_type": "markdown",
      "metadata": {},
      "source": [
        "Also the original poles are pointing downwards. We can change the\ndirection by calling the following:\n\n\n"
      ]
    },
    {
      "cell_type": "code",
      "execution_count": null,
      "metadata": {
        "collapsed": false
      },
      "outputs": [],
      "source": [
        "geo_model.modify_orientations(geo_model.orientations.df.index, polarity=-1).df.tail()"
      ]
    },
    {
      "cell_type": "markdown",
      "metadata": {},
      "source": [
        "We need an orientation per series/fault. The faults does not have\norientation so the easiest is to create an orientation from the surface\npoints availablle:\n\n\n"
      ]
    },
    {
      "cell_type": "code",
      "execution_count": null,
      "metadata": {
        "collapsed": false
      },
      "outputs": [],
      "source": [
        "fault_idx = geo_model.surface_points.df.index[geo_model.surface_points.df['surface'] == 'Claudius_fault']\ngp.set_orientation_from_surface_points(geo_model, fault_idx).df.tail()"
      ]
    },
    {
      "cell_type": "markdown",
      "metadata": {},
      "source": [
        "Now we can see how the data looks so far:\n\n\n"
      ]
    },
    {
      "cell_type": "code",
      "execution_count": null,
      "metadata": {
        "collapsed": false
      },
      "outputs": [],
      "source": [
        "geo_model.surfaces"
      ]
    },
    {
      "cell_type": "code",
      "execution_count": null,
      "metadata": {
        "collapsed": false
      },
      "outputs": [],
      "source": [
        "gp.plot_2d(geo_model, direction='y')"
      ]
    },
    {
      "cell_type": "markdown",
      "metadata": {},
      "source": [
        "By default all surfaces belong to one unique series.\n\n\n"
      ]
    },
    {
      "cell_type": "code",
      "execution_count": null,
      "metadata": {
        "collapsed": false
      },
      "outputs": [],
      "source": [
        "geo_model.surfaces"
      ]
    },
    {
      "cell_type": "markdown",
      "metadata": {},
      "source": [
        "We will need to separate with surface belong to each series:\n\n\n"
      ]
    },
    {
      "cell_type": "code",
      "execution_count": null,
      "metadata": {
        "collapsed": false
      },
      "outputs": [],
      "source": [
        "stratigraphy = 'fixed'"
      ]
    },
    {
      "cell_type": "code",
      "execution_count": null,
      "metadata": {
        "collapsed": false
      },
      "outputs": [],
      "source": [
        "if stratigraphy == 'original':\n    gp.map_stack_to_surfaces(geo_model, {'Fault': 'Claudius_fault',\n                                         'Default series': ('0', '60', '250', '330'),\n                                         })\n    # Ordering the events from younger to older:\n    geo_model.reorder_series(['Fault', 'Default series', 'Basement'])\n\n\nelif stratigraphy == 'fixed':\n    gp.map_stack_to_surfaces(geo_model, {'Default series': ('0', '60', '250'),\n                                         'Fault': 'Claudius_fault',\n                                         'Uncomformity': '330',\n                                         })\n    # Ordering the events from younger to older:\n    geo_model.reorder_series(['Default series', 'Fault', 'Uncomformity', 'Basement'])"
      ]
    },
    {
      "cell_type": "markdown",
      "metadata": {},
      "source": [
        "So far we did not specify which series/faults are actula faults:\n\n\n"
      ]
    },
    {
      "cell_type": "code",
      "execution_count": null,
      "metadata": {
        "collapsed": false
      },
      "outputs": [],
      "source": [
        "geo_model.set_is_fault('Fault')"
      ]
    },
    {
      "cell_type": "markdown",
      "metadata": {},
      "source": [
        "Ordering the events from younger to older:\n\n\n"
      ]
    },
    {
      "cell_type": "markdown",
      "metadata": {},
      "source": [
        "geo_model.reorder_series(['Default series', 'Fault', 'Uncomformity', 'Basement'])\n\n"
      ]
    },
    {
      "cell_type": "markdown",
      "metadata": {},
      "source": [
        "Check which series/faults are affected by other faults (rows offset\ncolumns):\n\n\n"
      ]
    },
    {
      "cell_type": "code",
      "execution_count": null,
      "metadata": {
        "collapsed": false
      },
      "outputs": [],
      "source": [
        "geo_model.faults.faults_relations_df"
      ]
    },
    {
      "cell_type": "markdown",
      "metadata": {},
      "source": [
        "Now we are good to go:\n\n\n"
      ]
    },
    {
      "cell_type": "code",
      "execution_count": null,
      "metadata": {
        "collapsed": false
      },
      "outputs": [],
      "source": [
        "gp.set_interpolator(geo_model, theano_optimizer='fast_run',\n                    compile_theano=True)"
      ]
    },
    {
      "cell_type": "code",
      "execution_count": null,
      "metadata": {
        "collapsed": false
      },
      "outputs": [],
      "source": [
        "gp.compute_model(geo_model)"
      ]
    },
    {
      "cell_type": "code",
      "execution_count": null,
      "metadata": {
        "collapsed": false
      },
      "outputs": [],
      "source": [
        "sect = [35]\n\ngp.plot_2d(geo_model, cell_number=sect, series_n=1, show_scalar=True, direction='x')"
      ]
    },
    {
      "cell_type": "code",
      "execution_count": null,
      "metadata": {
        "collapsed": false
      },
      "outputs": [],
      "source": [
        "gp.plot_2d(geo_model, cell_number=sect, show_data=True, direction='x')"
      ]
    },
    {
      "cell_type": "code",
      "execution_count": null,
      "metadata": {
        "collapsed": false
      },
      "outputs": [],
      "source": [
        "gp.plot_2d(geo_model, cell_number=[28], series_n=0, direction='y', show_scalar=True)\ngp.plot_2d(geo_model, cell_number=[28], series_n=1, direction='y', show_scalar=True)\ngp.plot_2d(geo_model, cell_number=[28], series_n=2, direction='y', show_scalar=True)"
      ]
    },
    {
      "cell_type": "code",
      "execution_count": null,
      "metadata": {
        "collapsed": false
      },
      "outputs": [],
      "source": [
        "gp.plot_2d(geo_model, cell_number=[28], show_data=True, direction='y')"
      ]
    },
    {
      "cell_type": "code",
      "execution_count": null,
      "metadata": {
        "collapsed": false
      },
      "outputs": [],
      "source": [
        "# sphinx_gallery_thumbnail_number = 8\ngp.plot_3d(geo_model)"
      ]
    },
    {
      "cell_type": "markdown",
      "metadata": {},
      "source": [
        "# Export data:\n\nThe solution is stored in a numpy array of the following shape. Axis 0\nare the scalar fields of each correspondent series/faults in the\nfollowing order (except basement):\n\n\n"
      ]
    },
    {
      "cell_type": "code",
      "execution_count": null,
      "metadata": {
        "collapsed": false
      },
      "outputs": [],
      "source": [
        "geo_model.series"
      ]
    },
    {
      "cell_type": "markdown",
      "metadata": {},
      "source": [
        "For the surfaces, there are two numpy arrays, one with vertices and the\nother with triangles. Axis 0 is each surface in the order:\n\n\n"
      ]
    },
    {
      "cell_type": "code",
      "execution_count": null,
      "metadata": {
        "collapsed": false
      },
      "outputs": [],
      "source": [
        "geo_model.surfaces"
      ]
    },
    {
      "cell_type": "markdown",
      "metadata": {},
      "source": [
        "np.save('Claudius_scalar', geo_model.solutions.scalar_field_matrix)\nnp.save('Claudius_ver', geo_model.solutions.vertices)\nnp.save('Claudius_edges', geo_model.solutions.edges)\ngp.plot.export_to_vtk(geo_model, 'Claudius')\n\n"
      ]
    },
    {
      "cell_type": "markdown",
      "metadata": {},
      "source": [
        "## Timing:\n\n# Fault\n\n### Dense 20k input, 62k voxels\n\n-  CPU Memory 8 Gb 44.9 s \u00b1 150 ms per loop (mean \u00b1 std. dev. of 7 runs,\n   1 loop each)\n-  GPU Memory 6.8 gb:\n\n   -  2.13 s \u00b1 3.39 ms per loop (mean \u00b1 std. dev. of 7 runs, 1 loop\n      each) + steps **str** = [64.56394268] + steps **str** =\n      [9927.69441126] + steps **str** = [196.15202667]\n\n   -  1.13 s \u00b1 2.08 ms per loop (mean \u00b1 std. dev. of 7 runs, 1 loop\n      each)\n\n      ::\n\n         + steps __str__ = [645.63943742]\n         + steps __str__ = [99276.94573919]\n         + steps __str__ = [1961.52029888]\n\n\n"
      ]
    },
    {
      "cell_type": "markdown",
      "metadata": {},
      "source": [
        "## Export to gocad\n\n\n"
      ]
    },
    {
      "cell_type": "code",
      "execution_count": null,
      "metadata": {
        "collapsed": false
      },
      "outputs": [],
      "source": [
        "def write_property_to_gocad_voxet(propertyfilename, propertyvalues):\n    \"\"\"\n    This function writes a numpy array into the right format for a gocad\n    voxet property file. This assumet there is a property already added to the .vo file,\n    and is just updating the file.\n    propertyfile - string giving the path to the file to write\n    propertyvalues - numpy array nz,ny,nx ordering and in float format\n    \"\"\"\n    propertyvalues = propertyvalues.astype('>f4')  # big endian\n    #     array = propertyvalues.newbyteorder()\n    propertyvalues.tofile(propertyfilename)"
      ]
    },
    {
      "cell_type": "code",
      "execution_count": null,
      "metadata": {
        "collapsed": false
      },
      "outputs": [],
      "source": [
        "write_property_to_gocad_voxet('claudius_sf_gempy',\n                              geo_model.solutions.scalar_field_matrix[1].reshape([38, 55, 30]).ravel('F'))\n\ngp.save_model(geo_model)"
      ]
    }
  ],
  "metadata": {
    "kernelspec": {
      "display_name": "Python 3",
      "language": "python",
      "name": "python3"
    },
    "language_info": {
      "codemirror_mode": {
        "name": "ipython",
        "version": 3
      },
      "file_extension": ".py",
      "mimetype": "text/x-python",
      "name": "python",
      "nbconvert_exporter": "python",
      "pygments_lexer": "ipython3",
      "version": "3.8.5"
    }
  },
  "nbformat": 4,
  "nbformat_minor": 0
}