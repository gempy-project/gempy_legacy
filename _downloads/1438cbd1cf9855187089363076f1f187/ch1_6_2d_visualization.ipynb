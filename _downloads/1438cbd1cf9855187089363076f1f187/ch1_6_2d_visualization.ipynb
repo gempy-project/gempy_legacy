{
  "cells": [
    {
      "cell_type": "code",
      "execution_count": null,
      "metadata": {
        "collapsed": false
      },
      "outputs": [],
      "source": [
        "%matplotlib inline\nfrom pyvista import set_plot_theme\nset_plot_theme('document')"
      ]
    },
    {
      "cell_type": "markdown",
      "metadata": {},
      "source": [
        "\n# 1.6: 2D Visualization.\n"
      ]
    },
    {
      "cell_type": "code",
      "execution_count": null,
      "metadata": {
        "collapsed": false
      },
      "outputs": [],
      "source": [
        "# Importing GemPy\nimport gempy as gp\n\n# Importing auxiliary libraries\nimport numpy as np\nimport pandas as pd\nimport matplotlib.pyplot as plt\n\nnp.random.seed(1515)\npd.set_option('precision', 2)"
      ]
    },
    {
      "cell_type": "markdown",
      "metadata": {},
      "source": [
        "## Model interpolation\n\n\n"
      ]
    },
    {
      "cell_type": "markdown",
      "metadata": {},
      "source": [
        "Data Preparation\n\n"
      ]
    },
    {
      "cell_type": "code",
      "execution_count": null,
      "metadata": {
        "collapsed": false
      },
      "outputs": [],
      "source": [
        "data_path = 'https://raw.githubusercontent.com/cgre-aachen/gempy_data/master/'\n\ngeo_data = gp.create_data('viz_2d', [0, 1000, 0, 1000, 0, 1000], resolution=[10, 10, 10],\n                          path_o=data_path + \"/data/input_data/jan_models/model5_orientations.csv\",\n                          path_i=data_path + \"/data/input_data/jan_models/model5_surface_points.csv\")"
      ]
    },
    {
      "cell_type": "code",
      "execution_count": null,
      "metadata": {
        "collapsed": false
      },
      "outputs": [],
      "source": [
        "gp.plot_2d(geo_data)"
      ]
    },
    {
      "cell_type": "code",
      "execution_count": null,
      "metadata": {
        "collapsed": false
      },
      "outputs": [],
      "source": [
        "geo_data.set_topography(d_z=(500, 1000))"
      ]
    },
    {
      "cell_type": "code",
      "execution_count": null,
      "metadata": {
        "collapsed": false
      },
      "outputs": [],
      "source": [
        "section_dict = {'section1': ([0, 0], [1000, 1000], [100, 80]),\n                'section2': ([800, 0], [800, 1000], [150, 100]),\n                'section3': ([50, 200], [100, 500], [200, 150])}"
      ]
    },
    {
      "cell_type": "code",
      "execution_count": null,
      "metadata": {
        "collapsed": false
      },
      "outputs": [],
      "source": [
        "geo_data.set_section_grid(section_dict)\ngp.plot.plot_section_traces(geo_data)"
      ]
    },
    {
      "cell_type": "code",
      "execution_count": null,
      "metadata": {
        "collapsed": false
      },
      "outputs": [],
      "source": [
        "geo_data.grid.sections"
      ]
    },
    {
      "cell_type": "code",
      "execution_count": null,
      "metadata": {
        "collapsed": false
      },
      "outputs": [],
      "source": [
        "gp.set_interpolator(geo_data, theano_optimizer='fast_compile')"
      ]
    },
    {
      "cell_type": "code",
      "execution_count": null,
      "metadata": {
        "collapsed": false
      },
      "outputs": [],
      "source": [
        "gp.map_stack_to_surfaces(geo_data, {\"Fault_Series\": 'fault',\n                                    \"Strat_Series\": ('rock2', 'rock1')})\n\ngeo_data.set_is_fault(['Fault_Series'])"
      ]
    },
    {
      "cell_type": "code",
      "execution_count": null,
      "metadata": {
        "collapsed": false
      },
      "outputs": [],
      "source": [
        "geo_data.get_active_grids()"
      ]
    },
    {
      "cell_type": "code",
      "execution_count": null,
      "metadata": {
        "collapsed": false
      },
      "outputs": [],
      "source": [
        "gp.compute_model(geo_data)"
      ]
    },
    {
      "cell_type": "markdown",
      "metadata": {},
      "source": [
        "new plotting api\n\n"
      ]
    },
    {
      "cell_type": "code",
      "execution_count": null,
      "metadata": {
        "collapsed": false
      },
      "outputs": [],
      "source": [
        "gp.plot_2d(geo_data, section_names=['section1'])"
      ]
    },
    {
      "cell_type": "markdown",
      "metadata": {},
      "source": [
        "or\n\n"
      ]
    },
    {
      "cell_type": "code",
      "execution_count": null,
      "metadata": {
        "collapsed": false
      },
      "outputs": [],
      "source": [
        "gp.plot.plot_2d(geo_data, section_names=['section1'])"
      ]
    },
    {
      "cell_type": "markdown",
      "metadata": {},
      "source": [
        "### Plot 2d: Object oriented:\n\n\n"
      ]
    },
    {
      "cell_type": "markdown",
      "metadata": {},
      "source": [
        "#### One plot\n\n\n"
      ]
    },
    {
      "cell_type": "code",
      "execution_count": null,
      "metadata": {
        "collapsed": false
      },
      "outputs": [],
      "source": [
        "p = gp.plot_2d(geo_data, section_names=[], direction=None, show=False)\np.fig.show()"
      ]
    },
    {
      "cell_type": "code",
      "execution_count": null,
      "metadata": {
        "collapsed": false
      },
      "outputs": [],
      "source": [
        "p = gp.plot_2d(geo_data, section_names=[], direction=None, show=False)\n# -----new code------\n\nsec_name = 'section1'\ns1 = p.add_section(sec_name)\np.plot_data(s1, sec_name, projection_distance=200)\np.fig.show()"
      ]
    },
    {
      "cell_type": "code",
      "execution_count": null,
      "metadata": {
        "collapsed": false
      },
      "outputs": [],
      "source": [
        "p = gp.plot_2d(geo_data, section_names=[], direction=None, show=False)\nsec_name = 'section1'\ns1 = p.add_section(sec_name)\n# -----new code------\n\np.plot_data(s1, sec_name, projection_distance=200)\np.plot_contacts(s1, sec_name)\np.fig.show()"
      ]
    },
    {
      "cell_type": "code",
      "execution_count": null,
      "metadata": {
        "collapsed": false
      },
      "outputs": [],
      "source": [
        "p = gp.plot_2d(geo_data, section_names=[], direction=None, show=False)\nsec_name = 'section1'\ns1 = p.add_section(sec_name)\np.plot_data(s1, sec_name, projection_distance=200)\np.plot_contacts(s1, sec_name)\n# -----new code------\n\np.plot_lith(s1, sec_name)\np.plot_topography(s1, sec_name)\np.fig.show()"
      ]
    },
    {
      "cell_type": "markdown",
      "metadata": {},
      "source": [
        "#### Several plots\n\n\n"
      ]
    },
    {
      "cell_type": "code",
      "execution_count": null,
      "metadata": {
        "collapsed": false
      },
      "outputs": [],
      "source": [
        "sec_name = 'section1'\nsec_name_2 = 'section3'\n\np2 = gp.plot_2d(geo_data, n_axis=3, figsize=(15, 15),  # General fig options\n                section_names=[sec_name, 'topography'], cell_number=[3],  # Defining the sections\n                show_data=False, show_lith=False, show_scalar=False, show_boundaries=False)"
      ]
    },
    {
      "cell_type": "code",
      "execution_count": null,
      "metadata": {
        "collapsed": false
      },
      "outputs": [],
      "source": [
        "# Create the section. This loacte the axes and give the right\n# aspect ratio and labels\n\np2 = gp.plot_2d(geo_data, n_axis=3, figsize=(15, 15),  # General fig options\n                section_names=[sec_name, 'topography'], cell_number=[3],  # Defining the sections\n                show_data=False, show_lith=False, show_scalar=False, show_boundaries=False,\n                show=False)\n# -----new code------\n\ns1 = p2.add_section(sec_name_2, ax_pos=224)\np2.fig.show()"
      ]
    },
    {
      "cell_type": "markdown",
      "metadata": {},
      "source": [
        "Axes 0\n\n"
      ]
    },
    {
      "cell_type": "code",
      "execution_count": null,
      "metadata": {
        "collapsed": false
      },
      "outputs": [],
      "source": [
        "p2 = gp.plot_2d(geo_data, n_axis=3, figsize=(15, 15),  # General fig options\n                section_names=[sec_name, 'topography'], cell_number=[3],  # Defining the sections\n                show_data=False, show_lith=False, show_scalar=False, show_boundaries=False,\n                show=False)\ns1 = p2.add_section(sec_name_2, ax_pos=224)\n# -----new code------\n\np2.plot_contacts(s1, sec_name_2)\np2.plot_lith(s1, sec_name_2)\np2.plot_data(s1, sec_name_2, projection_distance=200)\np2.plot_topography(s1, sec_name_2)\np2.fig.show()"
      ]
    },
    {
      "cell_type": "markdown",
      "metadata": {},
      "source": [
        "Axes 1\n\n"
      ]
    },
    {
      "cell_type": "code",
      "execution_count": null,
      "metadata": {
        "collapsed": false
      },
      "outputs": [],
      "source": [
        "# sphinx_gallery_thumbnail_number = 12\np2 = gp.plot_2d(geo_data, n_axis=3, figsize=(15, 15),  # General fig options\n                section_names=[sec_name, 'topography'], cell_number=[3],  # Defining the sections\n                show_data=False, show_lith=False, show_scalar=False, show_boundaries=False,\n                show=False)\ns1 = p2.add_section(sec_name_2, ax_pos=224)\np2.plot_contacts(s1, sec_name_2)\np2.plot_lith(s1, sec_name_2)\np2.plot_data(s1, sec_name_2, projection_distance=200)\np2.plot_topography(s1, sec_name_2)\n# -----new code------\n\np2.plot_contacts(p2.axes[0], cell_number=3)\np2.plot_scalar_field(p2.axes[0], cell_number=3, series_n=1)\np2.fig.show()"
      ]
    },
    {
      "cell_type": "markdown",
      "metadata": {},
      "source": [
        "Axes2\n\n"
      ]
    },
    {
      "cell_type": "code",
      "execution_count": null,
      "metadata": {
        "collapsed": false
      },
      "outputs": [],
      "source": [
        "p2 = gp.plot_2d(geo_data, n_axis=3, figsize=(15, 15),  # General fig options\n                section_names=[sec_name, 'topography'], cell_number=[3],  # Defining the sections\n                show_data=False, show_lith=False, show_scalar=False, show_boundaries=False,\n                show=False)\ns1 = p2.add_section(sec_name_2, ax_pos=224)\np2.plot_contacts(s1, sec_name_2)\np2.plot_lith(s1, sec_name_2)\np2.plot_data(s1, sec_name_2, projection_distance=200)\np2.plot_topography(s1, sec_name_2)\np2.plot_contacts(p2.axes[0], cell_number=3)\np2.plot_scalar_field(p2.axes[0], cell_number=3, series_n=1)\n# -----new code------\n\np2.plot_lith(p2.axes[1], 'topography')\np2.plot_contacts(p2.axes[1], 'topography')\np2.fig.show()"
      ]
    },
    {
      "cell_type": "markdown",
      "metadata": {},
      "source": [
        "##### Plotting traces:\n\n\n"
      ]
    },
    {
      "cell_type": "code",
      "execution_count": null,
      "metadata": {
        "collapsed": false
      },
      "outputs": [],
      "source": [
        "p2.plot_section_traces(p2.axes[1])\np2.fig.show()"
      ]
    },
    {
      "cell_type": "code",
      "execution_count": null,
      "metadata": {
        "collapsed": false
      },
      "outputs": [],
      "source": [
        "gp.plot.plot_section_traces(geo_data)"
      ]
    },
    {
      "cell_type": "markdown",
      "metadata": {},
      "source": [
        "### Plot API\n\n\n"
      ]
    },
    {
      "cell_type": "markdown",
      "metadata": {},
      "source": [
        "If nothing is passed, a Plot2D object is created and therefore you are\nin the same situation as above:\n\n\n"
      ]
    },
    {
      "cell_type": "code",
      "execution_count": null,
      "metadata": {
        "collapsed": false
      },
      "outputs": [],
      "source": [
        "p3 = gp.plot_2d(geo_data)"
      ]
    },
    {
      "cell_type": "markdown",
      "metadata": {},
      "source": [
        "Alternatively you can pass section\\_names, cell\\_numbers + direction or\nany combination of the above:\n\n\n"
      ]
    },
    {
      "cell_type": "code",
      "execution_count": null,
      "metadata": {
        "collapsed": false
      },
      "outputs": [],
      "source": [
        "gp.plot_2d(geo_data, section_names=['topography'])"
      ]
    },
    {
      "cell_type": "code",
      "execution_count": null,
      "metadata": {
        "collapsed": false
      },
      "outputs": [],
      "source": [
        "gp.plot_2d(geo_data, section_names=['section1'])"
      ]
    },
    {
      "cell_type": "code",
      "execution_count": null,
      "metadata": {
        "collapsed": false
      },
      "outputs": [],
      "source": [
        "gp.plot_2d(geo_data, section_names=['section1', 'section2'])"
      ]
    },
    {
      "cell_type": "code",
      "execution_count": null,
      "metadata": {
        "collapsed": false
      },
      "outputs": [],
      "source": [
        "gp.plot_2d(geo_data, figsize=(15, 15), section_names=['section1', 'section2', 'topography'],\n           cell_number='mid')"
      ]
    }
  ],
  "metadata": {
    "kernelspec": {
      "display_name": "Python 3",
      "language": "python",
      "name": "python3"
    },
    "language_info": {
      "codemirror_mode": {
        "name": "ipython",
        "version": 3
      },
      "file_extension": ".py",
      "mimetype": "text/x-python",
      "name": "python",
      "nbconvert_exporter": "python",
      "pygments_lexer": "ipython3",
      "version": "3.8.5"
    }
  },
  "nbformat": 4,
  "nbformat_minor": 0
}