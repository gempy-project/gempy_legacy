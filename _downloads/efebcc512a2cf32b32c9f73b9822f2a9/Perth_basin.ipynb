{
  "cells": [
    {
      "cell_type": "code",
      "execution_count": null,
      "metadata": {
        "collapsed": false
      },
      "outputs": [],
      "source": [
        "%matplotlib inline\nfrom pyvista import set_plot_theme\nset_plot_theme('document')"
      ]
    },
    {
      "cell_type": "markdown",
      "metadata": {},
      "source": [
        "\n# Perth basin.\n"
      ]
    },
    {
      "cell_type": "code",
      "execution_count": null,
      "metadata": {
        "collapsed": false
      },
      "outputs": [],
      "source": [
        "import os\n\n# Importing GemPy\nimport gempy as gp\n\n# Importing auxiliary libraries\nimport matplotlib\nmatplotlib.rcParams['figure.figsize'] = (20.0, 10.0)\nos.environ[\"THEANO_FLAGS\"] = \"mode=FAST_RUN,device=cuda\""
      ]
    },
    {
      "cell_type": "code",
      "execution_count": null,
      "metadata": {
        "collapsed": false
      },
      "outputs": [],
      "source": [
        "data_path = 'https://raw.githubusercontent.com/cgre-aachen/gempy_data/master/'\ngeo_model = gp.create_model('Perth_Basin')"
      ]
    },
    {
      "cell_type": "code",
      "execution_count": null,
      "metadata": {
        "collapsed": false
      },
      "outputs": [],
      "source": [
        "gp.init_data(geo_model,\n             extent=[337000, 400000, 6640000, 6710000, -18000, 1000],\n             resolution=[100, 100, 100],\n             path_i=data_path + \"/data/input_data/Perth_basin/Paper_GU2F_sc_faults_topo_Points.csv\",\n             path_o=data_path + \"/data/input_data/Perth_basin/Paper_GU2F_sc_faults_topo_Foliations.csv\")"
      ]
    },
    {
      "cell_type": "code",
      "execution_count": null,
      "metadata": {
        "collapsed": false
      },
      "outputs": [],
      "source": [
        "geo_model.surfaces"
      ]
    },
    {
      "cell_type": "code",
      "execution_count": null,
      "metadata": {
        "collapsed": false
      },
      "outputs": [],
      "source": [
        "del_surfaces = ['Cadda', 'Woodada_Kockatea', 'Cattamarra']"
      ]
    },
    {
      "cell_type": "code",
      "execution_count": null,
      "metadata": {
        "collapsed": false
      },
      "outputs": [],
      "source": [
        "geo_model.delete_surfaces(del_surfaces, remove_data=True)"
      ]
    },
    {
      "cell_type": "markdown",
      "metadata": {},
      "source": [
        "%debug\n\n"
      ]
    },
    {
      "cell_type": "code",
      "execution_count": null,
      "metadata": {
        "collapsed": false
      },
      "outputs": [],
      "source": [
        "geo_model.stack"
      ]
    },
    {
      "cell_type": "code",
      "execution_count": null,
      "metadata": {
        "collapsed": false
      },
      "outputs": [],
      "source": [
        "gp.map_stack_to_surfaces(geo_model,\n                          {\"fault_Abrolhos_Transfer\": [\"Abrolhos_Transfer\"],\n                           \"fault_Coomallo\": [\"Coomallo\"],\n                           \"fault_Eneabba_South\": [\"Eneabba_South\"],\n                           \"fault_Hypo_fault_W\": [\"Hypo_fault_W\"],\n                           \"fault_Hypo_fault_E\": [\"Hypo_fault_E\"],\n                           \"fault_Urella_North\": [\"Urella_North\"],\n                           \"fault_Urella_South\": [\"Urella_South\"],\n                           \"fault_Darling\": [\"Darling\"],\n                           \"Sedimentary_Series\": ['Cretaceous',\n                                                  'Yarragadee',\n                                                  'Eneabba',\n                                                  'Lesueur',\n                                                  'Permian']\n                           })"
      ]
    },
    {
      "cell_type": "code",
      "execution_count": null,
      "metadata": {
        "collapsed": false
      },
      "outputs": [],
      "source": [
        "geo_model.series"
      ]
    },
    {
      "cell_type": "code",
      "execution_count": null,
      "metadata": {
        "collapsed": false
      },
      "outputs": [],
      "source": [
        "order_series = [\"fault_Abrolhos_Transfer\",\n                \"fault_Coomallo\",\n                \"fault_Eneabba_South\",\n                \"fault_Hypo_fault_W\",\n                \"fault_Hypo_fault_E\",\n                \"fault_Urella_North\",\n                \"fault_Darling\",\n                \"fault_Urella_South\",\n                \"Sedimentary_Series\", 'Basement']\n\ngeo_model.reorder_series(order_series)"
      ]
    },
    {
      "cell_type": "markdown",
      "metadata": {},
      "source": [
        "Drop input data from the deleted series:\n\n\n"
      ]
    },
    {
      "cell_type": "code",
      "execution_count": null,
      "metadata": {
        "collapsed": false
      },
      "outputs": [],
      "source": [
        "geo_model.surface_points.df.dropna(inplace=True)\ngeo_model.orientations.df.dropna(inplace=True)"
      ]
    },
    {
      "cell_type": "markdown",
      "metadata": {},
      "source": [
        "## Select which series are faults\n\n\n"
      ]
    },
    {
      "cell_type": "code",
      "execution_count": null,
      "metadata": {
        "collapsed": false
      },
      "outputs": [],
      "source": [
        "geo_model.faults"
      ]
    },
    {
      "cell_type": "code",
      "execution_count": null,
      "metadata": {
        "collapsed": false
      },
      "outputs": [],
      "source": [
        "geo_model.set_is_fault([\"fault_Abrolhos_Transfer\",\n                        \"fault_Coomallo\",\n                        \"fault_Eneabba_South\",\n                        \"fault_Hypo_fault_W\",\n                        \"fault_Hypo_fault_E\",\n                        \"fault_Urella_North\",\n                        \"fault_Darling\",\n                        \"fault_Urella_South\"])"
      ]
    },
    {
      "cell_type": "markdown",
      "metadata": {},
      "source": [
        "### Fault Network\n\n\n"
      ]
    },
    {
      "cell_type": "code",
      "execution_count": null,
      "metadata": {
        "collapsed": false
      },
      "outputs": [],
      "source": [
        "geo_model.faults.faults_relations_df"
      ]
    },
    {
      "cell_type": "code",
      "execution_count": null,
      "metadata": {
        "collapsed": false
      },
      "outputs": [],
      "source": [
        "fr = geo_model.faults.faults_relations_df.values"
      ]
    },
    {
      "cell_type": "code",
      "execution_count": null,
      "metadata": {
        "collapsed": false
      },
      "outputs": [],
      "source": [
        "fr[:, :-2] = False\nfr"
      ]
    },
    {
      "cell_type": "code",
      "execution_count": null,
      "metadata": {
        "collapsed": false
      },
      "outputs": [],
      "source": [
        "geo_model.set_fault_relation(fr)"
      ]
    },
    {
      "cell_type": "markdown",
      "metadata": {},
      "source": [
        "%matplotlib inline\n\n"
      ]
    },
    {
      "cell_type": "code",
      "execution_count": null,
      "metadata": {
        "collapsed": false
      },
      "outputs": [],
      "source": [
        "gp.plot_2d(geo_model, direction=['z'])"
      ]
    },
    {
      "cell_type": "code",
      "execution_count": null,
      "metadata": {
        "collapsed": false
      },
      "outputs": [],
      "source": [
        "geo_model.set_topography(source='random')"
      ]
    },
    {
      "cell_type": "code",
      "execution_count": null,
      "metadata": {
        "collapsed": false
      },
      "outputs": [],
      "source": [
        "gp.plot_3d(geo_model)"
      ]
    },
    {
      "cell_type": "code",
      "execution_count": null,
      "metadata": {
        "collapsed": false
      },
      "outputs": [],
      "source": [
        "interp_data = gp.set_interpolator(geo_model,\n                                  compile_theano=True,\n                                  theano_optimizer='fast_run', gradient=False,\n                                  dtype='float32')"
      ]
    },
    {
      "cell_type": "code",
      "execution_count": null,
      "metadata": {
        "collapsed": false
      },
      "outputs": [],
      "source": [
        "gp.compute_model(geo_model)"
      ]
    },
    {
      "cell_type": "code",
      "execution_count": null,
      "metadata": {
        "collapsed": false
      },
      "outputs": [],
      "source": [
        "gp.plot_2d(geo_model, cell_number=[25])"
      ]
    },
    {
      "cell_type": "code",
      "execution_count": null,
      "metadata": {
        "collapsed": false
      },
      "outputs": [],
      "source": [
        "gp.plot_2d(geo_model, cell_number=[25], series_n=-1, show_scalar=True)"
      ]
    },
    {
      "cell_type": "code",
      "execution_count": null,
      "metadata": {
        "collapsed": false
      },
      "outputs": [],
      "source": [
        "gp.plot_2d(geo_model, cell_number=[12], direction=[\"y\"], show_data=True, show_topography=True)"
      ]
    },
    {
      "cell_type": "markdown",
      "metadata": {},
      "source": [
        "sphinx_gallery_thumbnail_number = 6\n\n"
      ]
    },
    {
      "cell_type": "code",
      "execution_count": null,
      "metadata": {
        "collapsed": false
      },
      "outputs": [],
      "source": [
        "gp.plot_3d(geo_model, show_topography=True)"
      ]
    },
    {
      "cell_type": "markdown",
      "metadata": {},
      "source": [
        "### Times\n\n#### Fast run\n\n-  1M voxels:\n\n   -  CPU: intel\u00ae Core\u2122 i7-7700HQ CPU @ 2.80GHz \u00d7 8 15 s \u00b1 1.02 s per\n      loop (mean \u00b1 std. dev. of 7 runs, 1 loop each)\n   -  GPU (4gb) not enough memmory\n   -  Ceres 1M voxels 2080 851 ms\n\n-  250k voxels\n\n   -  GPU 1050Ti: 3.11 s \u00b1 11.8 ms per loop (mean \u00b1 std. dev. of 7 runs,\n      1 loop each)\n   -  CPU: intel\u00ae Core\u2122 i7-7700HQ CPU @ 2.80GHz \u00d7 8 2.27 s \u00b1 47.3 ms\n   -  \n\n#### Fast Compile\n\n-  250k voxels\n\n   -  GPU 1050Ti: 3.7 s \u00b1 11.8 ms per loop (mean \u00b1 std. dev. of 7 runs,\n      1 loop each)\n   -  CPU: intel\u00ae Core\u2122 i7-7700HQ CPU @ 2.80GHz \u00d7 8 14.2 s \u00b1 51.1 ms per\n      loop (mean \u00b1 std. dev. of 7 runs, 1 loop each)\n\n\n"
      ]
    },
    {
      "cell_type": "markdown",
      "metadata": {},
      "source": [
        "%%timeit\ngp.compute_model(geo_model)\n\n"
      ]
    },
    {
      "cell_type": "markdown",
      "metadata": {},
      "source": [
        "ver = np.load('ver.npy')\nsim = np.load('sim.npy')\nlith_block = np.load('lith.npy')\n\n"
      ]
    },
    {
      "cell_type": "code",
      "execution_count": null,
      "metadata": {
        "collapsed": false
      },
      "outputs": [],
      "source": [
        "gp.save_model(geo_model)"
      ]
    }
  ],
  "metadata": {
    "kernelspec": {
      "display_name": "Python 3",
      "language": "python",
      "name": "python3"
    },
    "language_info": {
      "codemirror_mode": {
        "name": "ipython",
        "version": 3
      },
      "file_extension": ".py",
      "mimetype": "text/x-python",
      "name": "python",
      "nbconvert_exporter": "python",
      "pygments_lexer": "ipython3",
      "version": "3.8.5"
    }
  },
  "nbformat": 4,
  "nbformat_minor": 0
}