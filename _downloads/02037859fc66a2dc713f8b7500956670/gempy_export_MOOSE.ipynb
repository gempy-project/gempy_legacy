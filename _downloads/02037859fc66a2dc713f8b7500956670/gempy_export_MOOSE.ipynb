{
  "cells": [
    {
      "cell_type": "code",
      "execution_count": null,
      "metadata": {
        "collapsed": false
      },
      "outputs": [],
      "source": [
        "%matplotlib inline\nfrom pyvista import set_plot_theme\nset_plot_theme('document')"
      ]
    },
    {
      "cell_type": "markdown",
      "metadata": {},
      "source": [
        "\n# Export a geological model from GemPy to use in MOOSE\n"
      ]
    },
    {
      "cell_type": "code",
      "execution_count": null,
      "metadata": {
        "collapsed": false
      },
      "outputs": [],
      "source": [
        "import gempy as gp"
      ]
    },
    {
      "cell_type": "markdown",
      "metadata": {},
      "source": [
        "## Creating a geological model\n\nThe procedure of generating a geological model is presented in detail in\n`Chapter\n1-1 <https://nbviewer.jupyter.org/github/cgre-aachen/gempy/blob/master/notebooks/tutorials/ch1-1_Basics.ipynb>`__\nof the GemPy tutorials, so it will only be briefly presented here\n\n\n"
      ]
    },
    {
      "cell_type": "markdown",
      "metadata": {},
      "source": [
        "Initiate a model\n\n"
      ]
    },
    {
      "cell_type": "code",
      "execution_count": null,
      "metadata": {
        "collapsed": false
      },
      "outputs": [],
      "source": [
        "geo_model = gp.create_model('tutorial_moose_exp')\ndata_path = 'https://raw.githubusercontent.com/cgre-aachen/gempy_data/master/'"
      ]
    },
    {
      "cell_type": "markdown",
      "metadata": {},
      "source": [
        "Import data from CSV-files with setting the resolution and model extent\n\n"
      ]
    },
    {
      "cell_type": "code",
      "execution_count": null,
      "metadata": {
        "collapsed": false
      },
      "outputs": [],
      "source": [
        "gp.init_data(geo_model, [0, 2000., 0, 2000., 0, 2000.], [50, 50, 80],\n             path_o=data_path + \"/data/input_data/tut_chapter1/simple_fault_model_orientations.csv\",\n             path_i=data_path + \"/data/input_data/tut_chapter1/simple_fault_model_points.csv\",\n             default_values=True)"
      ]
    },
    {
      "cell_type": "markdown",
      "metadata": {},
      "source": [
        "present the units and series\n\n"
      ]
    },
    {
      "cell_type": "code",
      "execution_count": null,
      "metadata": {
        "collapsed": false
      },
      "outputs": [],
      "source": [
        "geo_model.surfaces"
      ]
    },
    {
      "cell_type": "markdown",
      "metadata": {},
      "source": [
        "combine units in series and make two series, as the fault needs its own\n\n"
      ]
    },
    {
      "cell_type": "code",
      "execution_count": null,
      "metadata": {
        "collapsed": false
      },
      "outputs": [],
      "source": [
        "gp.map_stack_to_surfaces(geo_model,\n                         {\"Fault_Series\": 'Main_Fault',\n                          \"Strat_Series\": ('Sandstone_2', 'Siltstone', 'Shale', 'Sandstone_1', 'basement')},\n                         remove_unused_series=True)\n\n# set the fault series to be fault object\ngeo_model.set_is_fault(['Fault_Series'], change_color=False)"
      ]
    },
    {
      "cell_type": "markdown",
      "metadata": {},
      "source": [
        "check whether series were assigned correctly\n\n"
      ]
    },
    {
      "cell_type": "code",
      "execution_count": null,
      "metadata": {
        "collapsed": false
      },
      "outputs": [],
      "source": [
        "geo_model.surfaces"
      ]
    },
    {
      "cell_type": "markdown",
      "metadata": {},
      "source": [
        "## Model generation\n\nAfter loading in the data, we set it up for interpolation and compute\nthe model.\n\n\n"
      ]
    },
    {
      "cell_type": "markdown",
      "metadata": {},
      "source": [
        "set up interpolator\n\n"
      ]
    },
    {
      "cell_type": "code",
      "execution_count": null,
      "metadata": {
        "collapsed": false
      },
      "outputs": [],
      "source": [
        "gp.set_interpolator(geo_model,\n                    compile_theano=True,\n                    theano_optimizer='fast_compile',\n                    verbose=[])"
      ]
    },
    {
      "cell_type": "markdown",
      "metadata": {},
      "source": [
        "compute the model\n\n"
      ]
    },
    {
      "cell_type": "code",
      "execution_count": null,
      "metadata": {
        "collapsed": false
      },
      "outputs": [],
      "source": [
        "gp.compute_model(geo_model, compute_mesh=False);"
      ]
    },
    {
      "cell_type": "markdown",
      "metadata": {},
      "source": [
        "have a look at the data and computed model\n\n"
      ]
    },
    {
      "cell_type": "code",
      "execution_count": null,
      "metadata": {
        "collapsed": false
      },
      "outputs": [],
      "source": [
        "gp.plot_3d(geo_model)"
      ]
    },
    {
      "cell_type": "markdown",
      "metadata": {},
      "source": [
        "## Exporting the Model to MOOSE\n\nThe voxel-model above already is the same as a model discretized in a\nhexahedral grid, so my immediately be used as input in a simulation\ntool, e.g. `MOOSE <https://mooseframework.org/>`__. For this, we need to\naccess to the unit IDs assigned to each voxel in GemPy. The array\ncontaining these IDs is called ``lith_block``.\n\n\n"
      ]
    },
    {
      "cell_type": "code",
      "execution_count": null,
      "metadata": {
        "collapsed": false
      },
      "outputs": [],
      "source": [
        "ids = geo_model.solutions.lith_block\nprint(ids)"
      ]
    },
    {
      "cell_type": "markdown",
      "metadata": {},
      "source": [
        "This array has the shape of ``(x,)`` and would be immediately useful, if\nGemPy and the chosen simulation code would *populate* a grid in the same\nway. Of course, however, that is not the case. This is why we have to\nrestructure the ``lith_block`` array, so it can be read correctly by\nMOOSE.\n\n\n"
      ]
    },
    {
      "cell_type": "markdown",
      "metadata": {},
      "source": [
        "model resolution\n\n"
      ]
    },
    {
      "cell_type": "code",
      "execution_count": null,
      "metadata": {
        "collapsed": false
      },
      "outputs": [],
      "source": [
        "nx, ny, nz = geo_model.grid.regular_grid.resolution\n\n# model extent\nxmin, xmax, ymin, ymax, zmin, zmax = geo_model.grid.regular_grid.extent"
      ]
    },
    {
      "cell_type": "markdown",
      "metadata": {},
      "source": [
        "These two parameters are important to, a) restructure ``lith_block``,\nand b) write the input file for MOOSE correctly. For a), we need to\nreshape ``lith_block`` again to its three dimensions and *re-flatten* it\nin a *MOOSE-conform* way.\n\n\n"
      ]
    },
    {
      "cell_type": "markdown",
      "metadata": {},
      "source": [
        "reshape to 3D array\n\n"
      ]
    },
    {
      "cell_type": "code",
      "execution_count": null,
      "metadata": {
        "collapsed": false
      },
      "outputs": [],
      "source": [
        "units = ids.reshape((nx, ny, nz))\n# flatten MOOSE conform\nunits = units.flatten('F')"
      ]
    },
    {
      "cell_type": "markdown",
      "metadata": {},
      "source": [
        "| The importance of ``nx, ny, nz`` is apparent from the cell above. But\n  what about ``xmin``, \u2026, ``zmax``?\n| A MOOSE input-file for mesh generation has the following syntax:\n\n.. code:: python\n\n   [MeshGenerators]\n     [./gmg]\n       type = GeneratedMeshGenerator\n       dim = 3\n       nx = 50\n       ny = 50\n       nz = 80\n       xmin = 0.0\n       xmax = 2000.0\n       yim = 0.0\n       ymax = 2000.0\n       zmin = 0.0\n       zmax = 2000.0\n       block_id = '1 2 3 4 5 6'\n       block_name = 'Main_Fault Sandstone_2 Siltstone Shale Sandstone_1 basement'\n     [../]\n\n     [./subdomains]\n       type = ElementSubdomainIDGenerator\n       input = gmg\n       subdomain_ids = ' ' # here you paste the transformed lith_block vector\n     [../]\n   []\n\n   [Mesh]\n     type = MeshGeneratorMesh\n   []\n\nSo these parameters are required inputs in the ``[MeshGenerators]``\nobject in the MOOSE input file. ``GemPy`` has a method to directly\ncreate such an input file, stored in ``gempy.utils.export.py``.\n\nThe following cell shows how to call the method:\n\n\n"
      ]
    },
    {
      "cell_type": "code",
      "execution_count": null,
      "metadata": {
        "collapsed": false
      },
      "outputs": [],
      "source": [
        "# sphinx_gallery_thumbnail_path = '_static/GemPy_model_combined.png'\nimport gempy.utils.export as export\nexport.export_moose_input(geo_model, path='')"
      ]
    },
    {
      "cell_type": "markdown",
      "metadata": {},
      "source": [
        "This method automatically stores a file\n``geo_model_units_moose_input.i`` at the specified path. Either this\ninput file could be extended with parameters to directly run a\nsimulation, or it is used just for creating a mesh. In the latter case,\nthe next step would be, to run the compiled MOOSE executable witch the\noptional flag ``--mesh-only``.\n\nE.g. with using the `PorousFlow\nmodule <https://mooseframework.inl.gov/modules/porous_flow/>`__:\n\n.. code:: bash\n\n   $path_to_moose/moose/modules/porous_flow/porous_flow-opt -i pct_voxel_mesh.i --mesh-only\n\nHow to compile MOOSE is described in their\n`documentation <https://mooseframework.inl.gov/getting_started/index.html>`__.\n\nThe now generated mesh with the name\n``geo_model_units_moose_input_in.e`` can be used as input for another\nMOOSE input file, which contains the main simulation parameters. To call\nthe file with the grid, the following part has to be added in the MOOSE\nsimulation input file:\n\n.. code:: python\n\n   [Mesh]\n     file = geo_model_units_moose_input_in.e\n   []\n\n.. raw:: html\n\n   <hr>\n\nThe final output of the simulation may also be such an ``.e``, which\ncan, for instance, be opened with\n`paraview <https://www.paraview.org/>`__. A simulated temperature field\n(purely conductive) of the created model would look like this:\n\n.. figure:: https://raw.githubusercontent.com/Japhiolite/a-Moose-and-you/master/imgs/GemPy_model_combined.png\n   :alt: gempy_temperature\n\n\n\n"
      ]
    }
  ],
  "metadata": {
    "kernelspec": {
      "display_name": "Python 3",
      "language": "python",
      "name": "python3"
    },
    "language_info": {
      "codemirror_mode": {
        "name": "ipython",
        "version": 3
      },
      "file_extension": ".py",
      "mimetype": "text/x-python",
      "name": "python",
      "nbconvert_exporter": "python",
      "pygments_lexer": "ipython3",
      "version": "3.8.5"
    }
  },
  "nbformat": 4,
  "nbformat_minor": 0
}