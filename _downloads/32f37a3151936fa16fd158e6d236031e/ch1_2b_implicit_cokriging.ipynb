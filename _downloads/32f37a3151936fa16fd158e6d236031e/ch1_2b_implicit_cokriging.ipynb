{
  "cells": [
    {
      "cell_type": "code",
      "execution_count": null,
      "metadata": {
        "collapsed": false
      },
      "outputs": [],
      "source": [
        "%matplotlib inline\nfrom pyvista import set_plot_theme\nset_plot_theme('document')"
      ]
    },
    {
      "cell_type": "markdown",
      "metadata": {},
      "source": [
        "\n# 1.2b: The Implicit coKriging class\n"
      ]
    },
    {
      "cell_type": "markdown",
      "metadata": {},
      "source": [
        "Importing GemPy\n\n"
      ]
    },
    {
      "cell_type": "code",
      "execution_count": null,
      "metadata": {
        "collapsed": false
      },
      "outputs": [],
      "source": [
        "import gempy as gp\n\n# Importing auxiliary libraries\nimport numpy as np\nimport pandas as pd\nimport matplotlib.pyplot as plt\n\npd.set_option('precision', 2)"
      ]
    },
    {
      "cell_type": "markdown",
      "metadata": {},
      "source": [
        "The description of the methods nomenclature remains the same as for the\n``data.py`` module with the particularity that update is slitted in:\n\n-  ``update_from``\n\n   -  update current object with the rest of dependencies. This is\n      useful if you change an object and you want to update the fields\n      with the rest of the objects. E.g after a set\\_surface\\_points\n\n-  ``update_to``\n\n   -  update dataframes from the current object. This is useful if you\n      modify one of the model dependencies and you want to update all\n      the other dependencies\n\nWhen we initialize a :class:`gempy.core.model.Project` class we create all the\nnecessary objects already linked with each other.\n\n\n"
      ]
    },
    {
      "cell_type": "code",
      "execution_count": null,
      "metadata": {
        "collapsed": false
      },
      "outputs": [],
      "source": [
        "model = gp.Project()"
      ]
    },
    {
      "cell_type": "markdown",
      "metadata": {},
      "source": [
        "As expected these dependencies are empty:\n\n\n"
      ]
    },
    {
      "cell_type": "code",
      "execution_count": null,
      "metadata": {
        "collapsed": false
      },
      "outputs": [],
      "source": [
        "model.surface_points"
      ]
    },
    {
      "cell_type": "code",
      "execution_count": null,
      "metadata": {
        "collapsed": false
      },
      "outputs": [],
      "source": [
        "model.surfaces"
      ]
    },
    {
      "cell_type": "code",
      "execution_count": null,
      "metadata": {
        "collapsed": false
      },
      "outputs": [],
      "source": [
        "model.stack"
      ]
    },
    {
      "cell_type": "markdown",
      "metadata": {},
      "source": [
        "The pandas DataFrames are already configured properly to categories:\n\n\n"
      ]
    },
    {
      "cell_type": "code",
      "execution_count": null,
      "metadata": {
        "collapsed": false
      },
      "outputs": [],
      "source": [
        "model._surfaces.df['series'], model._surfaces.df['surface']"
      ]
    },
    {
      "cell_type": "markdown",
      "metadata": {},
      "source": [
        "And additional data has everything pretty much empty:\n\n\n"
      ]
    },
    {
      "cell_type": "code",
      "execution_count": null,
      "metadata": {
        "collapsed": false
      },
      "outputs": [],
      "source": [
        "model._additional_data"
      ]
    },
    {
      "cell_type": "markdown",
      "metadata": {},
      "source": [
        "## Reading data\n\nUsually data will be imported from external files. GemPy uses\n``pandas.read_table`` powerful functionality for that. The default\nformat is XYZ surface\\_name:\n\n\n"
      ]
    },
    {
      "cell_type": "code",
      "execution_count": null,
      "metadata": {
        "collapsed": false
      },
      "outputs": [],
      "source": [
        "data_path = 'https://raw.githubusercontent.com/cgre-aachen/gempy_data/master/'\n\nmodel.read_data(path_i=data_path + \"/data/input_data/tut_chapter1/simple_fault_model_points.csv\",\n                path_o=data_path + \"/data/input_data/tut_chapter1/simple_fault_model_orientations.csv\")"
      ]
    },
    {
      "cell_type": "code",
      "execution_count": null,
      "metadata": {
        "collapsed": false
      },
      "outputs": [],
      "source": [
        "model.orientations"
      ]
    },
    {
      "cell_type": "code",
      "execution_count": null,
      "metadata": {
        "collapsed": false
      },
      "outputs": [],
      "source": [
        "model.map_stack_to_surfaces({\"Fault_Series\": ('Main_Fault', 'Silstone'),\n                             \"Strat_Series\": ('Sandstone_2', 'Sandstone_1', 'Siltstone',\n                                              'Shale',)}, )"
      ]
    },
    {
      "cell_type": "code",
      "execution_count": null,
      "metadata": {
        "collapsed": false
      },
      "outputs": [],
      "source": [
        "model.stack"
      ]
    },
    {
      "cell_type": "code",
      "execution_count": null,
      "metadata": {
        "collapsed": false
      },
      "outputs": [],
      "source": [
        "model.surfaces"
      ]
    },
    {
      "cell_type": "code",
      "execution_count": null,
      "metadata": {
        "collapsed": false
      },
      "outputs": [],
      "source": [
        "model.surface_points"
      ]
    },
    {
      "cell_type": "code",
      "execution_count": null,
      "metadata": {
        "collapsed": false
      },
      "outputs": [],
      "source": [
        "model._orientations.df.head()"
      ]
    },
    {
      "cell_type": "markdown",
      "metadata": {},
      "source": [
        "Next we need to categorize each surface into the right series. This will\nupdate all the Dataframes depending on ``Formations`` and ``Series`` to\nthe right categories:\n\n\n"
      ]
    },
    {
      "cell_type": "code",
      "execution_count": null,
      "metadata": {
        "collapsed": false
      },
      "outputs": [],
      "source": [
        "model.map_stack_to_surfaces({\"Fault_Series\": 'Main_Fault',\n                             \"Strat_Series\": ('Sandstone_2', 'Siltstone',\n                                              'Shale', 'Sandstone_1')})"
      ]
    },
    {
      "cell_type": "code",
      "execution_count": null,
      "metadata": {
        "collapsed": false
      },
      "outputs": [],
      "source": [
        "model._surfaces.df['series']"
      ]
    },
    {
      "cell_type": "code",
      "execution_count": null,
      "metadata": {
        "collapsed": false
      },
      "outputs": [],
      "source": [
        "model.surfaces"
      ]
    },
    {
      "cell_type": "code",
      "execution_count": null,
      "metadata": {
        "collapsed": false
      },
      "outputs": [],
      "source": [
        "gp.get_data(model, 'surface points')"
      ]
    },
    {
      "cell_type": "code",
      "execution_count": null,
      "metadata": {
        "collapsed": false
      },
      "outputs": [],
      "source": [
        "model.stack"
      ]
    },
    {
      "cell_type": "markdown",
      "metadata": {},
      "source": [
        "In the case of having faults we need to assign wich series are faults:\n\n\n"
      ]
    },
    {
      "cell_type": "code",
      "execution_count": null,
      "metadata": {
        "collapsed": false
      },
      "outputs": [],
      "source": [
        "model.faults"
      ]
    },
    {
      "cell_type": "code",
      "execution_count": null,
      "metadata": {
        "collapsed": false
      },
      "outputs": [],
      "source": [
        "model.set_is_fault(['Fault_Series'])"
      ]
    },
    {
      "cell_type": "code",
      "execution_count": null,
      "metadata": {
        "collapsed": false
      },
      "outputs": [],
      "source": [
        "model.surface_points"
      ]
    },
    {
      "cell_type": "markdown",
      "metadata": {},
      "source": [
        "Again as we can see, as long we use the model methods, all the dependent\nobjects change inplace accordingly. If for any reason you do not want\nthis behaviour you can always use the individual methods of the objects\n(e.g. ``model.faults.set_is_fault``)\n\n\n"
      ]
    },
    {
      "cell_type": "code",
      "execution_count": null,
      "metadata": {
        "collapsed": false
      },
      "outputs": [],
      "source": [
        "model.additional_data"
      ]
    },
    {
      "cell_type": "markdown",
      "metadata": {},
      "source": [
        "## Setting grid\n\nSo far we have worked on data that depends exclusively of input (i.e.\nsequential pile, surface_points, orientations, etc). With things like\ngrid the idea is the same:\n\n\n"
      ]
    },
    {
      "cell_type": "code",
      "execution_count": null,
      "metadata": {
        "collapsed": false
      },
      "outputs": [],
      "source": [
        "model.grid"
      ]
    },
    {
      "cell_type": "code",
      "execution_count": null,
      "metadata": {
        "collapsed": false
      },
      "outputs": [],
      "source": [
        "model.set_regular_grid([0, 10, 0, 10, 0, 10], [50, 50, 50])"
      ]
    },
    {
      "cell_type": "markdown",
      "metadata": {},
      "source": [
        "## Getting data\n\n\n"
      ]
    },
    {
      "cell_type": "markdown",
      "metadata": {},
      "source": [
        "Alternatively we can access the dataframe by:\n\n\n"
      ]
    },
    {
      "cell_type": "code",
      "execution_count": null,
      "metadata": {
        "collapsed": false
      },
      "outputs": [],
      "source": [
        "gp.get_data(model, 'surfaces')"
      ]
    },
    {
      "cell_type": "markdown",
      "metadata": {},
      "source": [
        "The class :class:`gempy.core.model.Model` works as the parent container of\nour project. Therefore the main step of any project is to create an\ninstance of this class. In the official documentation we use normally\n``geo_model`` (``geo_data`` in the past) as name of this instance.\n\nWhen we instantiate a ``Model`` object we full data structure is\ncreated. By using ``gp.init_data`` and ``set_series`` we set the default\nvalues -- given the attributes -- to all of fields. Data is stored in\npandas dataframes. With ``gp.get_data`` and the name of the data object\nit is possible to have access to the dataframes:\n\n``str``\\ ['all', 'surface\\_points', 'orientations', 'formations',\n'series', 'faults', 'faults\\_relations', additional data]\n\nThese dataframes are stored in specific objects. These objects contain\nthe specific methods to manipulate them. You access these objects with\nthe specific getter or as a attribute of ``Model``\n\n\n"
      ]
    }
  ],
  "metadata": {
    "kernelspec": {
      "display_name": "Python 3",
      "language": "python",
      "name": "python3"
    },
    "language_info": {
      "codemirror_mode": {
        "name": "ipython",
        "version": 3
      },
      "file_extension": ".py",
      "mimetype": "text/x-python",
      "name": "python",
      "nbconvert_exporter": "python",
      "pygments_lexer": "ipython3",
      "version": "3.8.5"
    }
  },
  "nbformat": 4,
  "nbformat_minor": 0
}