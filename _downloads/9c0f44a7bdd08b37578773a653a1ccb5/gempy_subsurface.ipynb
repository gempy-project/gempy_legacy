{
  "cells": [
    {
      "cell_type": "code",
      "execution_count": null,
      "metadata": {
        "collapsed": false
      },
      "outputs": [],
      "source": [
        "%matplotlib inline\nfrom pyvista import set_plot_theme\nset_plot_theme('document')"
      ]
    },
    {
      "cell_type": "markdown",
      "metadata": {},
      "source": [
        "\n# GemPy - Subsurface Link\n"
      ]
    },
    {
      "cell_type": "code",
      "execution_count": null,
      "metadata": {
        "collapsed": false
      },
      "outputs": [],
      "source": [
        "import pooch\nimport numpy as np\nimport pandas as pd\n\nimport subsurface as sb\nfrom subsurface.reader import read_netcdf\n\ndata_url = \"https://raw.githubusercontent.com/softwareunderground/subsurface/t21-main/examples/tutorials/wells_unstructured.nc\"\n\ndata_hash = '05198041f2bffcc03d138f7f2b1802657228725c4a895d819d4f5fbc0e9978ca'\nborehole_unstructured_data_file = pooch.retrieve(url=data_url,\n                                                 known_hash=data_hash)\n\nunstruct = read_netcdf.read_unstruct(borehole_unstructured_data_file)\nunstruct"
      ]
    },
    {
      "cell_type": "code",
      "execution_count": null,
      "metadata": {
        "collapsed": false
      },
      "outputs": [],
      "source": [
        "element = sb.LineSet(unstruct)\nlines_mesh = sb.visualization.to_pyvista_line(element, radius=50)\n\n# Plot default LITH\nsb.visualization.pv_plot([lines_mesh])"
      ]
    },
    {
      "cell_type": "markdown",
      "metadata": {},
      "source": [
        "## Findig the boreholes bases\nGemPy interpolates the bottom of a unit, therefore we need to be able to extract those points to be able tointerpolate them.\nxarray, pandas and numpy are using the same type of memory representation what makes possible to use the same or at least similar methods to manipulate the data to our will.\nLets find the base points of each well:\n\n"
      ]
    },
    {
      "cell_type": "code",
      "execution_count": null,
      "metadata": {
        "collapsed": false
      },
      "outputs": [],
      "source": [
        "# Creating references to the xarray.DataArray\ncells_attr = unstruct.data.cell_attrs\ncells = unstruct.data.cells\nvertex = unstruct.data.vertex\n# Find vertex points at the boundary of two units\n# Marking each vertex\nbool_prop_change = cells_attr.values[1:] != cells_attr.values[:-1]\n# Getting the index of the vertex\nargs_prop_change = np.where(bool_prop_change)[0]\n# Getting the attr values at those points\nvals_prop_change = cells_attr[args_prop_change]\nvals_prop_change.to_pandas()"
      ]
    },
    {
      "cell_type": "markdown",
      "metadata": {},
      "source": [
        "Getting the vertex values at those points\n\n"
      ]
    },
    {
      "cell_type": "code",
      "execution_count": null,
      "metadata": {
        "collapsed": false
      },
      "outputs": [],
      "source": [
        "vertex_args_prop_change = cells[args_prop_change, 1]\ninterface_points = vertex[vertex_args_prop_change]\ninterface_points"
      ]
    },
    {
      "cell_type": "markdown",
      "metadata": {},
      "source": [
        "Creating a new UnstructuredData\n\n"
      ]
    },
    {
      "cell_type": "code",
      "execution_count": null,
      "metadata": {
        "collapsed": false
      },
      "outputs": [],
      "source": [
        "interf_us= sb.UnstructuredData.from_array(vertex=interface_points.values, cells=\"points\",\n                                          cells_attr=vals_prop_change.to_pandas())\ninterf_us"
      ]
    },
    {
      "cell_type": "markdown",
      "metadata": {},
      "source": [
        "This new UnstructuredData object instead containing data that represent lines, contain point data at the bottom of each\nunit. We can plot it very similar as before:\n\n"
      ]
    },
    {
      "cell_type": "code",
      "execution_count": null,
      "metadata": {
        "collapsed": false
      },
      "outputs": [],
      "source": [
        "element = sb.PointSet(interf_us)\npoint_mesh = sb.visualization.to_pyvista_points(element)\nsb.visualization.pv_plot([lines_mesh, point_mesh])"
      ]
    },
    {
      "cell_type": "markdown",
      "metadata": {},
      "source": [
        "## GemPy: Initialize model\nThe first step to create a GemPy model is create a gempy.\n\n"
      ]
    },
    {
      "cell_type": "code",
      "execution_count": null,
      "metadata": {
        "collapsed": false
      },
      "outputs": [],
      "source": [
        "import gempy as gp\ngeo_model = gp.create_model(\"getting started\")\ngeo_model.set_regular_grid(extent=[275619, 323824, 3914125, 3961793, -3972.6, 313.922], resolution=[50,50,50])\ngp.set_interpolator(geo_model, theano_optimizer='fast_compile', verbose=[])"
      ]
    },
    {
      "cell_type": "markdown",
      "metadata": {},
      "source": [
        "## Making a model step by step.\n\n"
      ]
    },
    {
      "cell_type": "code",
      "execution_count": null,
      "metadata": {
        "collapsed": false
      },
      "outputs": [],
      "source": [
        "# The temptation at this point is to bring all the points into gempy and just interpolate. However, often that strategy\n# results in ill posed problems due to noise or irregularities in the data. gempy has been design to being able to\n# iterate rapidly and therefore a much better workflow use to be creating the model step by step.\n#\n# To do that, lets define a function that we can pass the name of the formation and get the assotiated vertex. Grab from\n# the interf_us the XYZ coordinates of the first layer:"
      ]
    },
    {
      "cell_type": "code",
      "execution_count": null,
      "metadata": {
        "collapsed": false
      },
      "outputs": [],
      "source": [
        "def get_interface_coord_from_surfaces(surface_names: list, verbose=False):\n    df = pd.DataFrame(columns=[\"X\", \"Y\", \"Z\", \"surface\"])\n\n    for e, surface_name in enumerate(surface_names):\n        # The properties in subsurface start at 1\n        val_property = formations.index(surface_name) + 1\n        # Find the cells with the surface id\n        args_from_first_surface = np.where(vals_prop_change == val_property)[0]\n        if verbose: print(args_from_first_surface)\n        # Find the vertex\n        points_from_first_surface = interface_points[args_from_first_surface]\n        if verbose: print(points_from_first_surface)\n\n        # xarray.DataArray to pandas.DataFrame\n        surface_pandas = points_from_first_surface.to_pandas()\n\n        # Add formation column\n        surface_pandas[\"surface\"] = surface_name\n        df = df.append(surface_pandas)\n\n    return df.reset_index()"
      ]
    },
    {
      "cell_type": "markdown",
      "metadata": {},
      "source": [
        "### Surfaces\n\n"
      ]
    },
    {
      "cell_type": "code",
      "execution_count": null,
      "metadata": {
        "collapsed": false
      },
      "outputs": [],
      "source": [
        "formations = [\"topo\", \"etchegoin\", \"macoma\", \"chanac\", \"mclure\",\n              \"santa_margarita\", \"fruitvale\",\n              \"round_mountain\", \"olcese\", \"freeman_jewett\", \"vedder\", \"eocene\",\n              \"cretaceous\",\n              \"basement\", \"null\"]"
      ]
    },
    {
      "cell_type": "code",
      "execution_count": null,
      "metadata": {
        "collapsed": false
      },
      "outputs": [],
      "source": [
        "geo_model.add_features(\"Formations\")\none_formation_every = 3\ngeo_model.add_surfaces(formations[0:4*one_formation_every:one_formation_every])\n\ngeo_model.map_stack_to_surfaces({\"Formations\": [\"etchegoin\", \"macoma\", \"chanac\", \"mclure\"],\n                                 \"Default series\": [\"topo\"]},\n                                set_series=False)"
      ]
    },
    {
      "cell_type": "code",
      "execution_count": null,
      "metadata": {
        "collapsed": false
      },
      "outputs": [],
      "source": [
        "gempy_surface_points = get_interface_coord_from_surfaces(formations[0:3*one_formation_every:one_formation_every])"
      ]
    },
    {
      "cell_type": "code",
      "execution_count": null,
      "metadata": {
        "collapsed": false
      },
      "outputs": [],
      "source": [
        "geo_model.set_surface_points(gempy_surface_points, update_surfaces=False)\ngeo_model.update_to_interpolator()"
      ]
    },
    {
      "cell_type": "markdown",
      "metadata": {},
      "source": [
        "## Adding orientations\n\n"
      ]
    },
    {
      "cell_type": "markdown",
      "metadata": {},
      "source": [
        "find neighbours\n\n"
      ]
    },
    {
      "cell_type": "code",
      "execution_count": null,
      "metadata": {
        "collapsed": false
      },
      "outputs": [],
      "source": [
        "neighbours = gp.select_nearest_surfaces_points(geo_model, geo_model._surface_points.df, 2)\n\n# calculate all fault orientations\ngp.set_orientation_from_neighbours_all(geo_model, neighbours)"
      ]
    },
    {
      "cell_type": "markdown",
      "metadata": {},
      "source": [
        "Using the flag to subsurface, the result of the interpolation will get stored in `subsurface` data objects. In the\nfuture exporting to subsurface will be the default behaviour.\n\n"
      ]
    },
    {
      "cell_type": "code",
      "execution_count": null,
      "metadata": {
        "collapsed": false
      },
      "outputs": [],
      "source": [
        "gp.compute_model(geo_model, to_subsurface=True)"
      ]
    },
    {
      "cell_type": "code",
      "execution_count": null,
      "metadata": {
        "collapsed": false
      },
      "outputs": [],
      "source": [
        "p3d = gp.plot_3d(geo_model)"
      ]
    },
    {
      "cell_type": "code",
      "execution_count": null,
      "metadata": {
        "collapsed": false
      },
      "outputs": [],
      "source": [
        "geo_model.solutions.s_regular_grid"
      ]
    },
    {
      "cell_type": "code",
      "execution_count": null,
      "metadata": {
        "collapsed": false
      },
      "outputs": [],
      "source": [
        "geo_model.solutions.meshes"
      ]
    }
  ],
  "metadata": {
    "kernelspec": {
      "display_name": "Python 3",
      "language": "python",
      "name": "python3"
    },
    "language_info": {
      "codemirror_mode": {
        "name": "ipython",
        "version": 3
      },
      "file_extension": ".py",
      "mimetype": "text/x-python",
      "name": "python",
      "nbconvert_exporter": "python",
      "pygments_lexer": "ipython3",
      "version": "3.8.5"
    }
  },
  "nbformat": 4,
  "nbformat_minor": 0
}