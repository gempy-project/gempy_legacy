{
  "cells": [
    {
      "cell_type": "code",
      "execution_count": null,
      "metadata": {
        "collapsed": false
      },
      "outputs": [],
      "source": [
        "%matplotlib inline\nfrom pyvista import set_plot_theme\nset_plot_theme('document')"
      ]
    },
    {
      "cell_type": "markdown",
      "metadata": {},
      "source": [
        "\n# Moureze\n"
      ]
    },
    {
      "cell_type": "markdown",
      "metadata": {},
      "source": [
        "These two lines are necessary only if gempy is not installed\n\n"
      ]
    },
    {
      "cell_type": "code",
      "execution_count": null,
      "metadata": {
        "collapsed": false
      },
      "outputs": [],
      "source": [
        "import sys, os\nos.environ[\"THEANO_FLAGS\"] = \"mode=FAST_RUN,device=cpu\"\n\n# Importing gempy\nimport gempy as gp\n\n# Aux imports\nimport numpy as np\nimport pandas as pn\nimport matplotlib.pyplot as plt"
      ]
    },
    {
      "cell_type": "markdown",
      "metadata": {},
      "source": [
        "# Loading surface points from repository:\n\nWith pandas we can do it directly from the web and with the right args\nwe can directly tidy the data in gempy style:\n\n\n"
      ]
    },
    {
      "cell_type": "code",
      "execution_count": null,
      "metadata": {
        "collapsed": false
      },
      "outputs": [],
      "source": [
        "Moureze_points = pn.read_csv(\n    'https://raw.githubusercontent.com/Loop3D/ImplicitBenchmark/master/Moureze/Moureze_Points.csv', sep=';',\n    names=['X', 'Y', 'Z', 'G_x', 'G_y', 'G_z', '_'], header=0, )\nSections_EW = pn.read_csv('https://raw.githubusercontent.com/Loop3D/ImplicitBenchmark/master/Moureze/Sections_EW.csv',\n                          sep=';',\n                          names=['X', 'Y', 'Z', 'ID', '_'], header=1).dropna()\nSections_NS = pn.read_csv('https://raw.githubusercontent.com/Loop3D/ImplicitBenchmark/master/Moureze/Sections_NS.csv',\n                          sep=';',\n                          names=['X', 'Y', 'Z', 'ID', '_'], header=1).dropna()"
      ]
    },
    {
      "cell_type": "markdown",
      "metadata": {},
      "source": [
        "Extracting the orientatins:\n\n\n"
      ]
    },
    {
      "cell_type": "code",
      "execution_count": null,
      "metadata": {
        "collapsed": false
      },
      "outputs": [],
      "source": [
        "mask_surfpoints = Moureze_points['G_x'] < -9999\nsurfpoints = Moureze_points[mask_surfpoints]\norientations = Moureze_points[~mask_surfpoints]"
      ]
    },
    {
      "cell_type": "markdown",
      "metadata": {},
      "source": [
        "Giving an arbitrary value name to the surface\n\n\n"
      ]
    },
    {
      "cell_type": "code",
      "execution_count": null,
      "metadata": {
        "collapsed": false
      },
      "outputs": [],
      "source": [
        "surfpoints['surface'] = '0'\norientations['surface'] = '0'"
      ]
    },
    {
      "cell_type": "code",
      "execution_count": null,
      "metadata": {
        "collapsed": false
      },
      "outputs": [],
      "source": [
        "surfpoints.tail()"
      ]
    },
    {
      "cell_type": "code",
      "execution_count": null,
      "metadata": {
        "collapsed": false
      },
      "outputs": [],
      "source": [
        "orientations.tail()"
      ]
    },
    {
      "cell_type": "markdown",
      "metadata": {},
      "source": [
        "# Data initialization:\n\nSuggested size of the axis-aligned modeling box:\n\nOrigin: -5 -5 -200\n\nMaximum: 305 405 -50\n\nSuggested resolution: 2m (grid size 156 x 206 x 76)\n\n\n"
      ]
    },
    {
      "cell_type": "markdown",
      "metadata": {},
      "source": [
        "# Only using one orientation because otherwhise it gets a mess\n\n\n"
      ]
    },
    {
      "cell_type": "markdown",
      "metadata": {},
      "source": [
        "Number voxels\n\n"
      ]
    },
    {
      "cell_type": "code",
      "execution_count": null,
      "metadata": {
        "collapsed": false
      },
      "outputs": [],
      "source": [
        "np.array([156, 206, 76]).prod()"
      ]
    },
    {
      "cell_type": "code",
      "execution_count": null,
      "metadata": {
        "collapsed": false
      },
      "outputs": [],
      "source": [
        "resolution_requ = [156, 206, 76]\nresolution = [77, 103, 38]\nresolution_low = [45, 51, 38]\ngeo_model = gp.create_model('Moureze')\ngeo_model = gp.init_data(geo_model,\n                         extent=[-5, 305, -5, 405, -200, -50], resolution=resolution_low,\n                         surface_points_df=surfpoints, orientations_df=orientations,\n                         surface_name='surface',\n                         add_basement=True)"
      ]
    },
    {
      "cell_type": "markdown",
      "metadata": {},
      "source": [
        "Now we can see how the data looks so far:\n\n\n"
      ]
    },
    {
      "cell_type": "code",
      "execution_count": null,
      "metadata": {
        "collapsed": false
      },
      "outputs": [],
      "source": [
        "gp.plot_2d(geo_model, direction='y')"
      ]
    },
    {
      "cell_type": "code",
      "execution_count": null,
      "metadata": {
        "collapsed": false
      },
      "outputs": [],
      "source": [
        "gp.set_interpolator(geo_model,\n                    theano_optimizer='fast_run', dtype='float64')"
      ]
    },
    {
      "cell_type": "markdown",
      "metadata": {},
      "source": [
        "The default range is always the diagonal of the extent. Since in this\nmodel data is very close we will need to reduce the range to 5-10% of\nthat value:\n\n\n"
      ]
    },
    {
      "cell_type": "code",
      "execution_count": null,
      "metadata": {
        "collapsed": false
      },
      "outputs": [],
      "source": [
        "new_range = geo_model.get_additional_data().loc[('Kriging', 'range'), 'values'] * 0.2\ngeo_model.modify_kriging_parameters('range', new_range)"
      ]
    },
    {
      "cell_type": "code",
      "execution_count": null,
      "metadata": {
        "collapsed": false
      },
      "outputs": [],
      "source": [
        "gp.compute_model(geo_model, set_solutions=True, sort_surfaces=False)"
      ]
    },
    {
      "cell_type": "markdown",
      "metadata": {},
      "source": [
        "# Time\n\n## 300k voxels 3.5k points\n\n-  Nvidia 2080: 500 ms \u00b1 1.3 ms per loop (mean \u00b1 std. dev. of 7 runs, 1\n   loop each), Memory 1 Gb\n-  CPU 14.2 s \u00b1 82.4 ms per loop (mean \u00b1 std. dev. of 7 runs, 1 loop\n   each), Memory: 1.3 Gb\n\n## 2.4 M voxels, 3.5k points\n\n-  CPU 2min 33s \u00b1 216 ms per loop (mean \u00b1 std. dev. of 7 runs, 1 loop\n   each) Memory: 1.3 GB\n-  Nvidia 2080: 1.92 s \u00b1 6.74 ms per loop (mean \u00b1 std. dev. of 7 runs, 1\n   loop each) 1 Gb\n\n## 2.4 M voxels, 3.5k points 3.5 k orientations\n\n-  Nvidia 2080: 2.53 s \u00b1 1.31 ms per loop (mean \u00b1 std. dev. of 7 runs, 1\n   loop each)\n\n\n"
      ]
    },
    {
      "cell_type": "code",
      "execution_count": null,
      "metadata": {
        "collapsed": false
      },
      "outputs": [],
      "source": [
        "gp.plot_2d(geo_model, cell_number=[16], series_n=0, show_scalar=True)"
      ]
    },
    {
      "cell_type": "code",
      "execution_count": null,
      "metadata": {
        "collapsed": false
      },
      "outputs": [],
      "source": [
        "gp.plot_2d(geo_model, cell_number=16, show_data=True, direction='y')"
      ]
    },
    {
      "cell_type": "markdown",
      "metadata": {},
      "source": [
        "sphinx_gallery_thumbnail_number = 4\n\n"
      ]
    },
    {
      "cell_type": "code",
      "execution_count": null,
      "metadata": {
        "collapsed": false
      },
      "outputs": [],
      "source": [
        "gp.plot_3d(geo_model)"
      ]
    },
    {
      "cell_type": "markdown",
      "metadata": {},
      "source": [
        "|image0|\n\n.. |image0| image:: ./Moureze.png\n\n\n\n"
      ]
    },
    {
      "cell_type": "markdown",
      "metadata": {},
      "source": [
        "# Export data:\n\nThe solution is stored in a numpy array of the following shape. Axis 0\nare the scalar fields of each correspondent series/faults in the\nfollowing order (except basement):\n\n\n"
      ]
    },
    {
      "cell_type": "code",
      "execution_count": null,
      "metadata": {
        "collapsed": false
      },
      "outputs": [],
      "source": [
        "geo_model.series"
      ]
    },
    {
      "cell_type": "markdown",
      "metadata": {},
      "source": [
        "For the surfaces, there are two numpy arrays, one with vertices and the\nother with triangles. Axis 0 is each surface in the order:\n\n\n"
      ]
    },
    {
      "cell_type": "code",
      "execution_count": null,
      "metadata": {
        "collapsed": false
      },
      "outputs": [],
      "source": [
        "geo_model.surfaces"
      ]
    },
    {
      "cell_type": "markdown",
      "metadata": {},
      "source": [
        "np.save('Moureze_scalar', geo_model.solutions.scalar_field_matrix)\nnp.save('Moureze_ver', geo_model.solutions.vertices)\nnp.save('Moureze_edges', geo_model.solutions.edges)\ngp.plot.export_to_vtk(geo_model, 'Moureze')\n\n"
      ]
    },
    {
      "cell_type": "code",
      "execution_count": null,
      "metadata": {
        "collapsed": false
      },
      "outputs": [],
      "source": [
        "gp.save_model(geo_model)"
      ]
    }
  ],
  "metadata": {
    "kernelspec": {
      "display_name": "Python 3",
      "language": "python",
      "name": "python3"
    },
    "language_info": {
      "codemirror_mode": {
        "name": "ipython",
        "version": 3
      },
      "file_extension": ".py",
      "mimetype": "text/x-python",
      "name": "python",
      "nbconvert_exporter": "python",
      "pygments_lexer": "ipython3",
      "version": "3.8.5"
    }
  },
  "nbformat": 4,
  "nbformat_minor": 0
}