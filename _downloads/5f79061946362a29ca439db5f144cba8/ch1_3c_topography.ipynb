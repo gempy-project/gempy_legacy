{
  "cells": [
    {
      "cell_type": "code",
      "execution_count": null,
      "metadata": {
        "collapsed": false
      },
      "outputs": [],
      "source": [
        "%matplotlib inline\nfrom pyvista import set_plot_theme\nset_plot_theme('document')"
      ]
    },
    {
      "cell_type": "markdown",
      "metadata": {},
      "source": [
        "\n# 1.3c: Adding topography to geological models\n"
      ]
    },
    {
      "cell_type": "code",
      "execution_count": null,
      "metadata": {
        "collapsed": false
      },
      "outputs": [],
      "source": [
        "import gempy as gp\nimport numpy as np\nimport matplotlib.pyplot as plt\nimport os"
      ]
    },
    {
      "cell_type": "markdown",
      "metadata": {},
      "source": [
        "## 1. The common procedure to set up a model:\n\n\n"
      ]
    },
    {
      "cell_type": "code",
      "execution_count": null,
      "metadata": {
        "collapsed": false
      },
      "outputs": [],
      "source": [
        "data_path = 'https://raw.githubusercontent.com/cgre-aachen/gempy_data/master/'\n\ngeo_model = gp.create_model('Single_layer_topo')\ngp.init_data(geo_model, extent=[450000, 460000, 70000, 80000, -1000, 500],\n             resolution=[50, 50, 50],\n             path_i=data_path + \"/data/input_data/tut-ch1-7/onelayer_interfaces.csv\",\n             path_o=data_path + \"/data/input_data/tut-ch1-7/onelayer_orient.csv\")"
      ]
    },
    {
      "cell_type": "markdown",
      "metadata": {},
      "source": [
        "use happy spring colors! \n\n"
      ]
    },
    {
      "cell_type": "code",
      "execution_count": null,
      "metadata": {
        "collapsed": false
      },
      "outputs": [],
      "source": [
        "geo_model.surfaces.colors.change_colors({'layer1': '#ff8000', 'basement': '#88cc60'})"
      ]
    },
    {
      "cell_type": "code",
      "execution_count": null,
      "metadata": {
        "collapsed": false
      },
      "outputs": [],
      "source": [
        "gp.map_stack_to_surfaces(geo_model, {'series': ('layer1', 'basement')})"
      ]
    },
    {
      "cell_type": "code",
      "execution_count": null,
      "metadata": {
        "collapsed": false
      },
      "outputs": [],
      "source": [
        "s = {'s1': ([450000, 75000], [460000, 75500], [100, 100])}\ngeo_model.set_section_grid(s)"
      ]
    },
    {
      "cell_type": "markdown",
      "metadata": {},
      "source": [
        "## 2. Adding topography\n\n\n"
      ]
    },
    {
      "cell_type": "markdown",
      "metadata": {},
      "source": [
        "### 2 a. Load from raster file\n\n\n"
      ]
    },
    {
      "cell_type": "markdown",
      "metadata": {},
      "source": [
        "This is to make it work in sphinx gallery\n\n"
      ]
    },
    {
      "cell_type": "code",
      "execution_count": null,
      "metadata": {
        "collapsed": false
      },
      "outputs": [],
      "source": [
        "cwd = os.getcwd()\nif not 'examples' in cwd:\n    path_dir = os.getcwd() + '/examples/tutorials/ch5_probabilistic_modeling'\nelse:\n    path_dir = cwd\n\nfp = path_dir + \"/../../data/input_data/tut-ch1-7/bogota.tif\""
      ]
    },
    {
      "cell_type": "code",
      "execution_count": null,
      "metadata": {
        "collapsed": false
      },
      "outputs": [],
      "source": [
        "geo_model.set_topography(source='gdal', filepath=fp)\ngp.plot_2d(geo_model, show_topography=True, section_names=['topography'], show_lith=False,\n           show_boundaries=False,\n           kwargs_topography={'cmap': 'gray', 'norm': None}\n           )\nplt.show()"
      ]
    },
    {
      "cell_type": "markdown",
      "metadata": {},
      "source": [
        "### 2 b. create fun topography\n\n\n"
      ]
    },
    {
      "cell_type": "markdown",
      "metadata": {},
      "source": [
        "If there is no topography file, but you think that your model with\ntopography would look significantly cooler, you can use gempys\n:meth:`set_topography <gempy.core.model.ImplicitCoKriging.set_topography>` function\nto generate a random topography based on a fractal grid:\n\n\n"
      ]
    },
    {
      "cell_type": "markdown",
      "metadata": {},
      "source": [
        "sphinx_gallery_thumbnail_number = 2\n\n"
      ]
    },
    {
      "cell_type": "code",
      "execution_count": null,
      "metadata": {
        "collapsed": false
      },
      "outputs": [],
      "source": [
        "geo_model.set_topography(source='random')\ngp.plot_2d(geo_model, show_topography=True, section_names=['topography'])\nplt.show()"
      ]
    },
    {
      "cell_type": "markdown",
      "metadata": {},
      "source": [
        "It has additional keywords to play around with:\n\n* fd: fractal dimension:\n      defaults to 2.0. The higher (try 2.9), the rougher the landscape will\n      be.\n\n* d\\_z: height difference:\n      If none, last 20% of the model in z\n      direction.\n\n* extent:\n      extent in xy direction. If none,\n      ``geo_model.grid.extent`` is used.\n\n* resolution:\n      resolution of the topography array.\n      If none, ``geo_model.grid.resoution`` is used. Increasing the resolution leads to\n      much nicer geological maps!\n\n\n\n"
      ]
    },
    {
      "cell_type": "code",
      "execution_count": null,
      "metadata": {
        "collapsed": false
      },
      "outputs": [],
      "source": [
        "geo_model.set_topography(source='random', fd=1.9, d_z=np.array([0, 250]),\n                         resolution=np.array([200, 200]))"
      ]
    },
    {
      "cell_type": "markdown",
      "metadata": {},
      "source": [
        "Note that each time this function is called, a new random topography is\ncreated. If you particularly like the generated topography or if you\nhave loaded a large file with gdal, you can save the topography object\nand load it again later:\n\n\n"
      ]
    },
    {
      "cell_type": "markdown",
      "metadata": {},
      "source": [
        "save:\n\n"
      ]
    },
    {
      "cell_type": "code",
      "execution_count": null,
      "metadata": {
        "collapsed": false
      },
      "outputs": [],
      "source": [
        "geo_model._grid.topography.save('test_topo')"
      ]
    },
    {
      "cell_type": "markdown",
      "metadata": {},
      "source": [
        "load:\n\n"
      ]
    },
    {
      "cell_type": "code",
      "execution_count": null,
      "metadata": {
        "collapsed": false
      },
      "outputs": [],
      "source": [
        "geo_model.set_topography(source='saved', filepath='test_topo.npy')"
      ]
    },
    {
      "cell_type": "markdown",
      "metadata": {},
      "source": [
        "## Compute model\n\n\n"
      ]
    },
    {
      "cell_type": "code",
      "execution_count": null,
      "metadata": {
        "collapsed": false
      },
      "outputs": [],
      "source": [
        "gp.set_interpolator(geo_model)"
      ]
    },
    {
      "cell_type": "code",
      "execution_count": null,
      "metadata": {
        "collapsed": false
      },
      "outputs": [],
      "source": [
        "gp.compute_model(geo_model, compute_mesh=False, set_solutions=True)"
      ]
    },
    {
      "cell_type": "markdown",
      "metadata": {},
      "source": [
        "### Visualize:\n\nNow, the solutions object does also contain the computed geological map.\nIt can be visualized using the 2D and 3D plotting functionality:\n\n\n"
      ]
    },
    {
      "cell_type": "code",
      "execution_count": null,
      "metadata": {
        "collapsed": false
      },
      "outputs": [],
      "source": [
        "gp.plot_2d(geo_model, show_topography=True, section_names=['topography'], show_boundaries=False, show_data=True)\nplt.show()"
      ]
    },
    {
      "cell_type": "code",
      "execution_count": null,
      "metadata": {
        "collapsed": false
      },
      "outputs": [],
      "source": [
        "gp.plot_2d(geo_model, show_topography=True, section_names=['s1'])\nplt.show()"
      ]
    },
    {
      "cell_type": "code",
      "execution_count": null,
      "metadata": {
        "collapsed": false
      },
      "outputs": [],
      "source": [
        "g3d = gp.plot_3d(geo_model,\n                 show_topography=True,\n                 show_lith=False,\n                 show_surfaces=False,\n                 show_results=False,\n                 ve=5)"
      ]
    },
    {
      "cell_type": "markdown",
      "metadata": {},
      "source": [
        "sphinx_gallery_thumbnail_number = 3\n\n"
      ]
    },
    {
      "cell_type": "code",
      "execution_count": null,
      "metadata": {
        "collapsed": false
      },
      "outputs": [],
      "source": [
        "g3d = gp.plot_3d(geo_model,\n                 show_topography=True,\n                 show_lith=True,\n                 show_surfaces=True,\n                 ve=5)"
      ]
    }
  ],
  "metadata": {
    "kernelspec": {
      "display_name": "Python 3",
      "language": "python",
      "name": "python3"
    },
    "language_info": {
      "codemirror_mode": {
        "name": "ipython",
        "version": 3
      },
      "file_extension": ".py",
      "mimetype": "text/x-python",
      "name": "python",
      "nbconvert_exporter": "python",
      "pygments_lexer": "ipython3",
      "version": "3.8.5"
    }
  },
  "nbformat": 4,
  "nbformat_minor": 0
}