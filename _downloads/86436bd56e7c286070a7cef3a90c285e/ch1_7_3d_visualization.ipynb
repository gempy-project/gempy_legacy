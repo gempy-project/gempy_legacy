{
  "cells": [
    {
      "cell_type": "code",
      "execution_count": null,
      "metadata": {
        "collapsed": false
      },
      "outputs": [],
      "source": [
        "%matplotlib inline\nfrom pyvista import set_plot_theme\nset_plot_theme('document')"
      ]
    },
    {
      "cell_type": "markdown",
      "metadata": {},
      "source": [
        "\n# 1.7: 3-D Visualization\n"
      ]
    },
    {
      "cell_type": "markdown",
      "metadata": {},
      "source": [
        "Importing GemPy\n\n"
      ]
    },
    {
      "cell_type": "code",
      "execution_count": null,
      "metadata": {
        "collapsed": false
      },
      "outputs": [],
      "source": [
        "import gempy as gp\n\n# Importing auxiliary libraries\nimport numpy as np\nimport matplotlib.pyplot as plt"
      ]
    },
    {
      "cell_type": "markdown",
      "metadata": {},
      "source": [
        "## Loading an example geomodel\n\n\n"
      ]
    },
    {
      "cell_type": "code",
      "execution_count": null,
      "metadata": {
        "collapsed": false
      },
      "outputs": [],
      "source": [
        "data_path = 'https://raw.githubusercontent.com/cgre-aachen/gempy_data/master/'\n\ngeo_model = gp.create_data('viz_3d',\n                           [0, 2000, 0, 2000, 0, 1600],\n                           [50, 50, 50],\n                           path_o=data_path + \"data/input_data/lisa_models/foliations\" + str(\n                               7) + \".csv\",\n                           path_i=data_path + \"data/input_data/lisa_models/interfaces\" + str(\n                               7) + \".csv\"\n                           )\n\ngp.map_stack_to_surfaces(\n    geo_model,\n    {\"Fault_1\": 'Fault_1', \"Fault_2\": 'Fault_2',\n     \"Strat_Series\": ('Sandstone', 'Siltstone', 'Shale', 'Sandstone_2', 'Schist', 'Gneiss')}\n)\n\ngeo_model.set_is_fault(['Fault_1', 'Fault_2'])\ngeo_model.set_topography()\n\ngp.set_interpolator(geo_model)\ngp.compute_model(geo_model, compute_mesh=True)"
      ]
    },
    {
      "cell_type": "markdown",
      "metadata": {},
      "source": [
        "### Basic plotting API\n\n\n"
      ]
    },
    {
      "cell_type": "markdown",
      "metadata": {},
      "source": [
        "## Data plot\n\n\n"
      ]
    },
    {
      "cell_type": "code",
      "execution_count": null,
      "metadata": {
        "collapsed": false
      },
      "outputs": [],
      "source": [
        "gp.plot_3d(geo_model, show_surfaces=False, show_data=True, show_lith=False, image=False)"
      ]
    },
    {
      "cell_type": "markdown",
      "metadata": {},
      "source": [
        "## Geomodel plot\n\n\n"
      ]
    },
    {
      "cell_type": "code",
      "execution_count": null,
      "metadata": {
        "collapsed": false
      },
      "outputs": [],
      "source": [
        "gp.plot_3d(geo_model, image=False)"
      ]
    },
    {
      "cell_type": "code",
      "execution_count": null,
      "metadata": {
        "collapsed": false
      },
      "outputs": [],
      "source": [
        "# sphinx_gallery_thumbnail_number = 2\ngpv = gp.plot.plot_3d(geo_model,\n                      plotter_type='basic', off_screen=False,\n                      show_topography=True,\n                      show_scalar=False,\n                      show_lith=True,\n                      kwargs_plot_structured_grid={'opacity': .5})\n\ngp.save_model(geo_model)"
      ]
    }
  ],
  "metadata": {
    "kernelspec": {
      "display_name": "Python 3",
      "language": "python",
      "name": "python3"
    },
    "language_info": {
      "codemirror_mode": {
        "name": "ipython",
        "version": 3
      },
      "file_extension": ".py",
      "mimetype": "text/x-python",
      "name": "python",
      "nbconvert_exporter": "python",
      "pygments_lexer": "ipython3",
      "version": "3.8.5"
    }
  },
  "nbformat": 4,
  "nbformat_minor": 0
}