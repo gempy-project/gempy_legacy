{
  "cells": [
    {
      "cell_type": "code",
      "execution_count": null,
      "metadata": {
        "collapsed": false
      },
      "outputs": [],
      "source": [
        "%matplotlib inline\nfrom pyvista import set_plot_theme\nset_plot_theme('document')"
      ]
    },
    {
      "cell_type": "markdown",
      "metadata": {},
      "source": [
        "\n# Chapter 4: Analyzing Geomodel Topology\n"
      ]
    },
    {
      "cell_type": "code",
      "execution_count": null,
      "metadata": {
        "collapsed": false
      },
      "outputs": [],
      "source": [
        "import gempy as gp\nfrom gempy.assets import topology as tp\n\nimport numpy as np\nimport matplotlib.pyplot as plt\n\nimport warnings\nwarnings.filterwarnings(\"ignore\")"
      ]
    },
    {
      "cell_type": "markdown",
      "metadata": {},
      "source": [
        "## Load example Model\n\nFirst let's set up a very simple example model. For that we initialize\nthe geo_data object with the correct model extent and the resolution we\nlike. Then we load our data points from csv files and set the series and\norder the formations (stratigraphic pile).\n\n\n"
      ]
    },
    {
      "cell_type": "code",
      "execution_count": null,
      "metadata": {
        "collapsed": false
      },
      "outputs": [],
      "source": [
        "geo_model = gp.create_model(\"Model_Tutorial6\")\n\ndata_path = 'https://raw.githubusercontent.com/cgre-aachen/gempy_data/master/'\ngp.init_data(\n    geo_model, [0, 3000, 0, 20, 0, 2000], [50, 10, 67], \n    path_i=data_path+\"data/input_data/tut_chapter6/ch6_data_interf.csv\", \n    path_o=data_path+\"data/input_data/tut_chapter6/ch6_data_fol.csv\"\n)\ngp.map_stack_to_surfaces(\n    geo_model,\n    {\n        \"fault\": \"Fault\",\n        \"Rest\": ('Layer 2', 'Layer 3', 'Layer 4', 'Layer 5')\n    }\n)\ngeo_model.set_is_fault([\"fault\"]);\ngp.set_interpolator(geo_model)\nsol = gp.compute_model(geo_model, compute_mesh=True)"
      ]
    },
    {
      "cell_type": "code",
      "execution_count": null,
      "metadata": {
        "collapsed": false
      },
      "outputs": [],
      "source": [
        "gp.plot_2d(geo_model, cell_number=[5])"
      ]
    },
    {
      "cell_type": "markdown",
      "metadata": {},
      "source": [
        "## Analyzing Topology\n\nGemPy sports in-built functionality to analyze the topology of its\nmodels. All we need for this is our geo_data object, lithology block and\nthe fault block. We input those into *gp.topology_compute* and get\nseveral useful outputs:\n\n-  an adjacency graph **G**, representing the topological relationships\n   of the model\n-  the **centroids** of the all the unique topological regions in the\n   model (x,y,z coordinates of their center)\n-  a list of all the unique labels (labels_unique)\n-  two look-up-tables from the lithology id's to the node labels, and\n   vice versa\n\n\n"
      ]
    },
    {
      "cell_type": "code",
      "execution_count": null,
      "metadata": {
        "collapsed": false
      },
      "outputs": [],
      "source": [
        "edges, centroids = tp.compute_topology(geo_model)"
      ]
    },
    {
      "cell_type": "markdown",
      "metadata": {},
      "source": [
        "The first output of the topology function is the ``set`` of edges\nrepresenting topology relationships between unique geobodies of the\nblock model. An edge is represented by a ``tuple`` of two ``int``\ngeobody (or node) labels:\n\n\n"
      ]
    },
    {
      "cell_type": "code",
      "execution_count": null,
      "metadata": {
        "collapsed": false
      },
      "outputs": [],
      "source": [
        "edges"
      ]
    },
    {
      "cell_type": "markdown",
      "metadata": {},
      "source": [
        "The second output is the centroids ``dict``, mapping the unique geobody\nid's (graph node id's) to the geobody centroid position in grid\ncoordinates:\n\n\n"
      ]
    },
    {
      "cell_type": "code",
      "execution_count": null,
      "metadata": {
        "collapsed": false
      },
      "outputs": [],
      "source": [
        "centroids"
      ]
    },
    {
      "cell_type": "markdown",
      "metadata": {},
      "source": [
        "After computing the model topology, we can overlay the topology graph\nover a model section:\n\n\n"
      ]
    },
    {
      "cell_type": "markdown",
      "metadata": {},
      "source": [
        "# Visualizing topology\n\n# 2-D Visualization of the Topology Graph\n\n\n"
      ]
    },
    {
      "cell_type": "code",
      "execution_count": null,
      "metadata": {
        "collapsed": false
      },
      "outputs": [],
      "source": [
        "gp.plot.plot_topology(geo_model, edges, centroids)\nplt.show()"
      ]
    },
    {
      "cell_type": "code",
      "execution_count": null,
      "metadata": {
        "collapsed": false
      },
      "outputs": [],
      "source": [
        "gp.plot_2d(geo_model, cell_number=[5], show=False)\ngp.plot.plot_topology(geo_model, edges, centroids, scale=True)\nplt.show()"
      ]
    },
    {
      "cell_type": "markdown",
      "metadata": {},
      "source": [
        "# Adjacency Matrix\n\nAnother way to encode and visualize the geomodel topology is using an\nadjacency graph:\n\n\n"
      ]
    },
    {
      "cell_type": "code",
      "execution_count": null,
      "metadata": {
        "collapsed": false
      },
      "outputs": [],
      "source": [
        "M = tp.get_adjacency_matrix(geo_model, edges, centroids)\nprint(M)"
      ]
    },
    {
      "cell_type": "code",
      "execution_count": null,
      "metadata": {
        "collapsed": false
      },
      "outputs": [],
      "source": [
        "tp.plot_adjacency_matrix(geo_model, M)"
      ]
    },
    {
      "cell_type": "markdown",
      "metadata": {},
      "source": [
        "# 3-D Visualization of the Topology Graph\n\n\n"
      ]
    },
    {
      "cell_type": "markdown",
      "metadata": {},
      "source": [
        "You can also plot the topology in 3-D using GemPy's 3-D visualization\ntoolkit powered by ``pyvista``:\n\n\n"
      ]
    },
    {
      "cell_type": "code",
      "execution_count": null,
      "metadata": {
        "collapsed": false
      },
      "outputs": [],
      "source": [
        "from gempy.plot._vista import Vista\ngpv = Vista(geo_model)\ngpv.plot_topology(edges, centroids)\ngpv.show()"
      ]
    },
    {
      "cell_type": "markdown",
      "metadata": {},
      "source": [
        "# Look-up tables\n\n\n"
      ]
    },
    {
      "cell_type": "markdown",
      "metadata": {},
      "source": [
        "The ``topology`` asset provides several look-up tables to work with the\nunique geobody topology id's.\n\nMapping node id's back to lithology / surface id's:\n\n\n"
      ]
    },
    {
      "cell_type": "code",
      "execution_count": null,
      "metadata": {
        "collapsed": false
      },
      "outputs": [],
      "source": [
        "lith_lot = tp.get_lot_node_to_lith_id(geo_model, centroids)\nlith_lot"
      ]
    },
    {
      "cell_type": "markdown",
      "metadata": {},
      "source": [
        "Figuring out which nodes are in which fault block:\n\n\n"
      ]
    },
    {
      "cell_type": "code",
      "execution_count": null,
      "metadata": {
        "collapsed": false
      },
      "outputs": [],
      "source": [
        "fault_lot = tp.get_lot_node_to_fault_block(geo_model, centroids)\nfault_lot"
      ]
    },
    {
      "cell_type": "markdown",
      "metadata": {},
      "source": [
        "We can also easily map the lithology id to the corresponding topology\nid's:\n\n\n"
      ]
    },
    {
      "cell_type": "code",
      "execution_count": null,
      "metadata": {
        "collapsed": false
      },
      "outputs": [],
      "source": [
        "tp.get_lot_lith_to_node_id(lith_lot)"
      ]
    },
    {
      "cell_type": "markdown",
      "metadata": {},
      "source": [
        "# Detailed node labeling\n\n\n"
      ]
    },
    {
      "cell_type": "markdown",
      "metadata": {},
      "source": [
        "sphinx_gallery_thumbnail_number = 4\n\n"
      ]
    },
    {
      "cell_type": "code",
      "execution_count": null,
      "metadata": {
        "collapsed": false
      },
      "outputs": [],
      "source": [
        "dedges, dcentroids = tp.get_detailed_labels(geo_model, edges, centroids)\ngp.plot_2d(geo_model, cell_number=[5], show=False)\ngp.plot.plot_topology(geo_model, dedges, dcentroids, scale=True)\nplt.show()"
      ]
    },
    {
      "cell_type": "code",
      "execution_count": null,
      "metadata": {
        "collapsed": false
      },
      "outputs": [],
      "source": [
        "dedges"
      ]
    },
    {
      "cell_type": "code",
      "execution_count": null,
      "metadata": {
        "collapsed": false
      },
      "outputs": [],
      "source": [
        "dcentroids"
      ]
    },
    {
      "cell_type": "markdown",
      "metadata": {},
      "source": [
        "# Checking adjacency\n\n\n"
      ]
    },
    {
      "cell_type": "markdown",
      "metadata": {},
      "source": [
        "So lets say we want to check if the purple layer (id 5) is connected\nacross the fault to the yellow layer (id 3). For this we can make easy\nuse of the detailed labeling and the ``check_adjacency`` function:\n\n\n"
      ]
    },
    {
      "cell_type": "code",
      "execution_count": null,
      "metadata": {
        "collapsed": false
      },
      "outputs": [],
      "source": [
        "tp.check_adjacency(dedges, \"5_1\", \"3_0\")"
      ]
    },
    {
      "cell_type": "markdown",
      "metadata": {},
      "source": [
        "We can also check all geobodies that are adjacent to the purple layer\n(id 5) on the left side of the fault (fault id 1):\n\n\n"
      ]
    },
    {
      "cell_type": "code",
      "execution_count": null,
      "metadata": {
        "collapsed": false
      },
      "outputs": [],
      "source": [
        "tp.get_adjacencies(dedges, \"5_1\")"
      ]
    }
  ],
  "metadata": {
    "kernelspec": {
      "display_name": "Python 3",
      "language": "python",
      "name": "python3"
    },
    "language_info": {
      "codemirror_mode": {
        "name": "ipython",
        "version": 3
      },
      "file_extension": ".py",
      "mimetype": "text/x-python",
      "name": "python",
      "nbconvert_exporter": "python",
      "pygments_lexer": "ipython3",
      "version": "3.8.5"
    }
  },
  "nbformat": 4,
  "nbformat_minor": 0
}