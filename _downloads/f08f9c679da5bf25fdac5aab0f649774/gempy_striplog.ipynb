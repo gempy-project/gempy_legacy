{
  "cells": [
    {
      "cell_type": "code",
      "execution_count": null,
      "metadata": {
        "collapsed": false
      },
      "outputs": [],
      "source": [
        "%matplotlib inline\nfrom pyvista import set_plot_theme\nset_plot_theme('document')"
      ]
    },
    {
      "cell_type": "markdown",
      "metadata": {},
      "source": [
        "\n# Transform 2019: Integrating Striplog and GemPy\n"
      ]
    },
    {
      "cell_type": "markdown",
      "metadata": {},
      "source": [
        "! pip install welly striplog\n\n"
      ]
    },
    {
      "cell_type": "markdown",
      "metadata": {},
      "source": [
        "Authors: M. de la Varga, Evan Bianco, Brian Burnham and Dieter Werthm\u00fcller\nImporting GemPy\n\n"
      ]
    },
    {
      "cell_type": "code",
      "execution_count": null,
      "metadata": {
        "collapsed": false
      },
      "outputs": [],
      "source": [
        "import gempy as gp\n\n# Importing auxiliary libraries\nimport numpy as np\nimport pandas as pn\nimport matplotlib.pyplot as plt\nimport os\nimport welly\nfrom welly import Location, Project\nimport glob\nfrom striplog import Striplog, Legend, Decor\n\npn.set_option('precision', 2)"
      ]
    },
    {
      "cell_type": "markdown",
      "metadata": {},
      "source": [
        "## Creating striplog object\n\n\n"
      ]
    },
    {
      "cell_type": "markdown",
      "metadata": {},
      "source": [
        "get well header coordinates\n\n"
      ]
    },
    {
      "cell_type": "code",
      "execution_count": null,
      "metadata": {
        "collapsed": false
      },
      "outputs": [],
      "source": [
        "well_heads = {'alpha': {'kb_coords': (0, 0, 0)},\n              'beta': {'kb_coords': (10, 10, 0)},\n              'gamma': {'kb_coords': (12, 0, 0)},\n              'epsilon': {'kb_coords': (20, 0, 0)}}"
      ]
    },
    {
      "cell_type": "markdown",
      "metadata": {},
      "source": [
        "Reading tops file\n\n"
      ]
    },
    {
      "cell_type": "code",
      "execution_count": null,
      "metadata": {
        "collapsed": false
      },
      "outputs": [],
      "source": [
        "cwd = os.getcwd()\nif 'examples' not in cwd:\n    data_path = os.getcwd() + '/examples'\nelse:\n    data_path = cwd + '/..'\n\nprint(data_path+'/data/input_data/striplog_integration/*.tops')\ntopsfiles = glob.glob(data_path+'/data/input_data/striplog_integration/*.tops')\ntopsfiles"
      ]
    },
    {
      "cell_type": "markdown",
      "metadata": {},
      "source": [
        "Creating striplog object\n\n"
      ]
    },
    {
      "cell_type": "code",
      "execution_count": null,
      "metadata": {
        "collapsed": false
      },
      "outputs": [],
      "source": [
        "my_striplogs = []\n\nfor file in topsfiles:\n    with open(file) as f:\n        text = f.read()\n        striplog = Striplog.from_csv(text=text)\n        my_striplogs.append(striplog)\n\nstriplog_dict = {'alpha': my_striplogs[1],\n                 'beta': my_striplogs[2],\n                 'gamma': my_striplogs[3],\n                 'epsilon': my_striplogs[0]}\n\nstriplog_dict['alpha'][0]"
      ]
    },
    {
      "cell_type": "markdown",
      "metadata": {},
      "source": [
        "Plot striplog\n\n"
      ]
    },
    {
      "cell_type": "code",
      "execution_count": null,
      "metadata": {
        "collapsed": false
      },
      "outputs": [],
      "source": [
        "f, a = plt.subplots(ncols=4, sharey=True)\n\nfor e, log in enumerate(striplog_dict.items()):\n    log[1].plot(ax=a[e], legend=None)\nf.tight_layout()\nplt.show()"
      ]
    },
    {
      "cell_type": "markdown",
      "metadata": {},
      "source": [
        "Striplog to pandas df of bottoms\n\n"
      ]
    },
    {
      "cell_type": "code",
      "execution_count": null,
      "metadata": {
        "collapsed": false
      },
      "outputs": [],
      "source": [
        "rows = []\nfor wellname in striplog_dict.keys():\n    for i, interval in enumerate(striplog_dict[wellname]):\n        surface_name = interval.primary.lith\n        surface_base = interval.base.middle\n        x, y = well_heads[wellname]['kb_coords'][:-1]\n        series = 1\n        rows.append([x, y, surface_base, surface_name, series, wellname])\n\ncolumn_names = ['X', 'Y', 'Z', 'surface', 'series', 'wellname']\ndf = pn.DataFrame(rows, columns=column_names)\ndf"
      ]
    },
    {
      "cell_type": "markdown",
      "metadata": {},
      "source": [
        "## GemPy model\n\n\n"
      ]
    },
    {
      "cell_type": "markdown",
      "metadata": {},
      "source": [
        "Create gempy model object\n\n"
      ]
    },
    {
      "cell_type": "code",
      "execution_count": null,
      "metadata": {
        "collapsed": false
      },
      "outputs": [],
      "source": [
        "geo_model = gp.create_model('welly_integration')\n\nextent = [-100, 300, -100, 200, -150, 0]\nres = [60, 60, 60]\n\n# Initializting model using the striplog df\ngp.init_data(geo_model, extent, res, surface_points_df=df)"
      ]
    },
    {
      "cell_type": "code",
      "execution_count": null,
      "metadata": {
        "collapsed": false
      },
      "outputs": [],
      "source": [
        "geo_model.surface_points.df.head()"
      ]
    },
    {
      "cell_type": "code",
      "execution_count": null,
      "metadata": {
        "collapsed": false
      },
      "outputs": [],
      "source": [
        "geo_model.surfaces"
      ]
    },
    {
      "cell_type": "code",
      "execution_count": null,
      "metadata": {
        "collapsed": false
      },
      "outputs": [],
      "source": [
        "dec_list = []\nfor e, i in enumerate(striplog_dict['alpha']):\n    dec_list.append(Decor({'_colour': geo_model.surfaces.df.loc[e, 'color'],\n                           'width': None,\n                           'component': i.primary,\n                           'hatch': None}))"
      ]
    },
    {
      "cell_type": "markdown",
      "metadata": {},
      "source": [
        "welly plot with gempy colors\nCreate Decor list\n\n"
      ]
    },
    {
      "cell_type": "code",
      "execution_count": null,
      "metadata": {
        "collapsed": false
      },
      "outputs": [],
      "source": [
        "dec_list = []\nfor e, i in enumerate(striplog_dict['alpha']):\n    dec_list.append(Decor({'_colour': geo_model.surfaces.df.loc[e, 'color'],\n                           'width': None,\n                           'component': i.primary,\n                           'hatch': None}))\n\n# Create legend\nlegend = Legend(dec_list)\nlegend"
      ]
    },
    {
      "cell_type": "markdown",
      "metadata": {},
      "source": [
        "Plot striplogs:\n\n"
      ]
    },
    {
      "cell_type": "code",
      "execution_count": null,
      "metadata": {
        "collapsed": false
      },
      "outputs": [],
      "source": [
        "f, a = plt.subplots(ncols=4, sharey=True)\n\nfor e, log in enumerate(striplog_dict.items()):\n    log[1].plot(ax=a[e], legend=legend)\nf.tight_layout()\nplt.show()"
      ]
    },
    {
      "cell_type": "markdown",
      "metadata": {},
      "source": [
        "Modifying the coordinates to make more sense\n\n"
      ]
    },
    {
      "cell_type": "code",
      "execution_count": null,
      "metadata": {
        "collapsed": false
      },
      "outputs": [],
      "source": [
        "geo_model.surface_points.df[['X', 'Y']] = geo_model.surface_points.df[['X', 'Y']] * 10\ngeo_model.surface_points.df['Z'] *= -1"
      ]
    },
    {
      "cell_type": "markdown",
      "metadata": {},
      "source": [
        "Delete points of the basement surface since we are intepolating bottoms (that surface wont exit).\n\n"
      ]
    },
    {
      "cell_type": "code",
      "execution_count": null,
      "metadata": {
        "collapsed": false
      },
      "outputs": [],
      "source": [
        "geo_model.delete_surface_points_basement()"
      ]
    },
    {
      "cell_type": "markdown",
      "metadata": {},
      "source": [
        "Adding an arbitrary orientation. Remember gempy need an orientation per series\n\n"
      ]
    },
    {
      "cell_type": "code",
      "execution_count": null,
      "metadata": {
        "collapsed": false
      },
      "outputs": [],
      "source": [
        "geo_model.set_default_orientation()\ngeo_model.modify_orientations(0, X=-500)"
      ]
    },
    {
      "cell_type": "code",
      "execution_count": null,
      "metadata": {
        "collapsed": false
      },
      "outputs": [],
      "source": [
        "gp.plot_2d(geo_model)"
      ]
    },
    {
      "cell_type": "code",
      "execution_count": null,
      "metadata": {
        "collapsed": false
      },
      "outputs": [],
      "source": [
        "gp.set_interpolator(geo_model)"
      ]
    },
    {
      "cell_type": "code",
      "execution_count": null,
      "metadata": {
        "collapsed": false
      },
      "outputs": [],
      "source": [
        "gp.compute_model(geo_model)"
      ]
    },
    {
      "cell_type": "code",
      "execution_count": null,
      "metadata": {
        "collapsed": false
      },
      "outputs": [],
      "source": [
        "p2d = gp.plot_2d(geo_model, cell_number=[30], show_data=True, show=True)"
      ]
    },
    {
      "cell_type": "code",
      "execution_count": null,
      "metadata": {
        "collapsed": false
      },
      "outputs": [],
      "source": [
        "gp.plot_3d(geo_model)"
      ]
    },
    {
      "cell_type": "markdown",
      "metadata": {},
      "source": [
        "## Pinch out model\n\nAs we can see the 3D model generated above does not honor the forth well\nlets fix it. First lets add an unconformity: between the yellow and\ngreen layer:\n\n\n"
      ]
    },
    {
      "cell_type": "code",
      "execution_count": null,
      "metadata": {
        "collapsed": false
      },
      "outputs": [],
      "source": [
        "geo_model.add_features('Unconformity')"
      ]
    },
    {
      "cell_type": "markdown",
      "metadata": {},
      "source": [
        "Now we set the green layer in the second series\n\n\n"
      ]
    },
    {
      "cell_type": "code",
      "execution_count": null,
      "metadata": {
        "collapsed": false
      },
      "outputs": [],
      "source": [
        "geo_model.map_stack_to_surfaces({'Uncomformity': ['brian', 'evan', 'dieter']})\ngeo_model.add_surfaces('basement')"
      ]
    },
    {
      "cell_type": "markdown",
      "metadata": {},
      "source": [
        "Lastly we need to add a dummy orientation to the new series:\n\n\n"
      ]
    },
    {
      "cell_type": "code",
      "execution_count": null,
      "metadata": {
        "collapsed": false
      },
      "outputs": [],
      "source": [
        "geo_model.add_orientations(-500, 0, -100, 'dieter', [0, 0, 1])"
      ]
    },
    {
      "cell_type": "markdown",
      "metadata": {},
      "source": [
        "Now we can compute:\n\n\n"
      ]
    },
    {
      "cell_type": "code",
      "execution_count": null,
      "metadata": {
        "collapsed": false
      },
      "outputs": [],
      "source": [
        "gp.compute_model(geo_model)"
      ]
    },
    {
      "cell_type": "code",
      "execution_count": null,
      "metadata": {
        "collapsed": false
      },
      "outputs": [],
      "source": [
        "p = gp.plot_2d(geo_model, cell_number=[30], show_data=True)\nf, a = plt.subplots(ncols=4, sharey=True)\n\nfor e, log in enumerate(striplog_dict.items()):\n    log[1].plot(ax=a[e], legend=legend)\nf.tight_layout()\nplt.show()"
      ]
    },
    {
      "cell_type": "markdown",
      "metadata": {},
      "source": [
        "Getting better but not quite there yet. Since the yellow does not show\nup in the last well the pinch out has to happen somewhere before so lets\nadd an artifial point to get that shape:\n\n\n"
      ]
    },
    {
      "cell_type": "code",
      "execution_count": null,
      "metadata": {
        "collapsed": false
      },
      "outputs": [],
      "source": [
        "geo_model.add_surface_points(200, 0, -75, 'evan');"
      ]
    },
    {
      "cell_type": "code",
      "execution_count": null,
      "metadata": {
        "collapsed": false
      },
      "outputs": [],
      "source": [
        "gp.compute_model(geo_model)\np = gp.plot_2d(geo_model, cell_number=[30], show_data=True)\nf, a = plt.subplots(ncols=4, sharey=True)\n\nfor e, log in enumerate(striplog_dict.items()):\n    log[1].plot(ax=a[e], legend=legend)\nf.tight_layout()\nplt.show()"
      ]
    },
    {
      "cell_type": "markdown",
      "metadata": {},
      "source": [
        "sphinx_gallery_thumbnail_number = 7\n\n"
      ]
    },
    {
      "cell_type": "code",
      "execution_count": null,
      "metadata": {
        "collapsed": false
      },
      "outputs": [],
      "source": [
        "gp.plot_3d(geo_model)"
      ]
    },
    {
      "cell_type": "markdown",
      "metadata": {},
      "source": [
        "gp.save_model(geo_model)\n\n"
      ]
    }
  ],
  "metadata": {
    "kernelspec": {
      "display_name": "Python 3",
      "language": "python",
      "name": "python3"
    },
    "language_info": {
      "codemirror_mode": {
        "name": "ipython",
        "version": 3
      },
      "file_extension": ".py",
      "mimetype": "text/x-python",
      "name": "python",
      "nbconvert_exporter": "python",
      "pygments_lexer": "ipython3",
      "version": "3.8.5"
    }
  },
  "nbformat": 4,
  "nbformat_minor": 0
}