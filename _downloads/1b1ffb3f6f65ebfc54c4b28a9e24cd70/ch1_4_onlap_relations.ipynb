{
  "cells": [
    {
      "cell_type": "code",
      "execution_count": null,
      "metadata": {
        "collapsed": false
      },
      "outputs": [],
      "source": [
        "%matplotlib inline\nfrom pyvista import set_plot_theme\nset_plot_theme('document')"
      ]
    },
    {
      "cell_type": "markdown",
      "metadata": {},
      "source": [
        "\n# 1.4: Unconformity relationships\n"
      ]
    },
    {
      "cell_type": "markdown",
      "metadata": {},
      "source": [
        "Importing gempy\n\n"
      ]
    },
    {
      "cell_type": "code",
      "execution_count": null,
      "metadata": {
        "collapsed": false
      },
      "outputs": [],
      "source": [
        "import gempy as gp\n\n# Aux imports\nimport numpy as np\nimport pandas as pd\nimport os\n\nnp.random.seed(1515)\npd.set_option('precision', 2)"
      ]
    },
    {
      "cell_type": "markdown",
      "metadata": {},
      "source": [
        "We import a model from an existing folder, representing a subduction\nzone with onlap relationships. The theano function is automatically\nrecombined to allow changes.\n\n\n"
      ]
    },
    {
      "cell_type": "code",
      "execution_count": null,
      "metadata": {
        "collapsed": false
      },
      "outputs": [],
      "source": [
        "cwd = os.getcwd()\nif not 'examples' in cwd:\n    data_path = os.getcwd() + '/examples/'\nelse:\n    data_path = cwd + '/../../'\n\ngeo_model = gp.load_model(r'Tutorial_ch1-8_Onlap_relations',\n                          path=data_path + 'data/gempy_models/Tutorial_ch1-8_Onlap_relations',\n                          recompile=True)\n\ngeo_model.meta.project_name = \"Onlap_relations\""
      ]
    },
    {
      "cell_type": "code",
      "execution_count": null,
      "metadata": {
        "collapsed": false
      },
      "outputs": [],
      "source": [
        "gp.plot_2d(geo_model)"
      ]
    },
    {
      "cell_type": "code",
      "execution_count": null,
      "metadata": {
        "collapsed": false
      },
      "outputs": [],
      "source": [
        "geo_model.set_regular_grid([-200, 1000, -500, 500, -1000, 0], [50, 50, 50])\ngeo_model.set_topography(d_z=np.array([-600, -100]))"
      ]
    },
    {
      "cell_type": "code",
      "execution_count": null,
      "metadata": {
        "collapsed": false
      },
      "outputs": [],
      "source": [
        "s = gp.compute_model(geo_model, compute_mesh=True, debug=False)"
      ]
    },
    {
      "cell_type": "code",
      "execution_count": null,
      "metadata": {
        "collapsed": false
      },
      "outputs": [],
      "source": [
        "gp.plot_2d(geo_model, cell_number=25, show_data=True)"
      ]
    },
    {
      "cell_type": "code",
      "execution_count": null,
      "metadata": {
        "collapsed": false
      },
      "outputs": [],
      "source": [
        "gp.plot_2d(geo_model, 2, regular_grid=geo_model.solutions.mask_matrix_pad[0],\n           show_data=True, kwargs_regular_grid={'cmap': 'gray', 'norm': None})\n\ngp.plot_2d(geo_model, 2, regular_grid=geo_model.solutions.mask_matrix_pad[1],\n           show_data=True, kwargs_regular_grid={'cmap': 'gray', 'norm': None})\n\ngp.plot_2d(geo_model, 2, regular_grid=geo_model.solutions.mask_matrix_pad[2],\n           show_data=True, kwargs_regular_grid={'cmap': 'gray', 'norm': None})\n\ngp.plot_2d(geo_model, 2, regular_grid=geo_model.solutions.mask_matrix_pad[3],\n           show_data=True, kwargs_regular_grid={'cmap': 'gray', 'norm': None})"
      ]
    },
    {
      "cell_type": "markdown",
      "metadata": {},
      "source": [
        "sphinx_gallery_thumbnail_number = 7\n\n"
      ]
    },
    {
      "cell_type": "code",
      "execution_count": null,
      "metadata": {
        "collapsed": false
      },
      "outputs": [],
      "source": [
        "p3d = gp.plot_3d(geo_model, show_surfaces=True, show_data=True, image=False,\n                 show_topography=True,\n                 kwargs_plot_structured_grid={'opacity': .2})\n\ngp.save_model(geo_model)"
      ]
    }
  ],
  "metadata": {
    "kernelspec": {
      "display_name": "Python 3",
      "language": "python",
      "name": "python3"
    },
    "language_info": {
      "codemirror_mode": {
        "name": "ipython",
        "version": 3
      },
      "file_extension": ".py",
      "mimetype": "text/x-python",
      "name": "python",
      "nbconvert_exporter": "python",
      "pygments_lexer": "ipython3",
      "version": "3.8.5"
    }
  },
  "nbformat": 4,
  "nbformat_minor": 0
}